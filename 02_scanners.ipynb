{
 "cells": [
  {
   "cell_type": "code",
   "execution_count": null,
   "id": "useful-education",
   "metadata": {},
   "outputs": [],
   "source": [
    "# default_exp scanners"
   ]
  },
  {
   "cell_type": "markdown",
   "id": "north-planner",
   "metadata": {},
   "source": [
    "# Various scanners"
   ]
  },
  {
   "cell_type": "code",
   "execution_count": null,
   "id": "rational-orlando",
   "metadata": {},
   "outputs": [],
   "source": [
    "def scan_thicknes(range):\n",
    "    pass"
   ]
  },
  {
   "cell_type": "code",
   "execution_count": null,
   "id": "grave-extreme",
   "metadata": {},
   "outputs": [],
   "source": [
    "#hide\n",
    "from nbdev.showdoc import *"
   ]
  },
  {
   "cell_type": "code",
   "execution_count": null,
   "id": "turkish-limit",
   "metadata": {},
   "outputs": [],
   "source": []
  }
 ],
 "metadata": {
  "kernelspec": {
   "display_name": "Python 3",
   "language": "python",
   "name": "python3"
  }
 },
 "nbformat": 4,
 "nbformat_minor": 5
}
