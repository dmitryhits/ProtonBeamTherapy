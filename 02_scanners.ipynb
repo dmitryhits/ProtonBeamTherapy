{
 "cells": [
  {
   "cell_type": "code",
   "execution_count": null,
   "id": "alert-luxury",
   "metadata": {},
   "outputs": [],
   "source": [
    "# default_exp core"
   ]
  },
  {
   "cell_type": "markdown",
   "id": "occupational-senate",
   "metadata": {},
   "source": [
    "# Various scanners"
   ]
  },
  {
   "cell_type": "code",
   "execution_count": null,
   "id": "induced-conditioning",
   "metadata": {},
   "outputs": [],
   "source": [
    "def scan_thicknes(range):\n",
    "    pass"
   ]
  },
  {
   "cell_type": "code",
   "execution_count": null,
   "id": "catholic-treasury",
   "metadata": {},
   "outputs": [],
   "source": []
  }
 ],
 "metadata": {
  "kernelspec": {
   "display_name": "Python 3",
   "language": "python",
   "name": "python3"
  }
 },
 "nbformat": 4,
 "nbformat_minor": 5
}
