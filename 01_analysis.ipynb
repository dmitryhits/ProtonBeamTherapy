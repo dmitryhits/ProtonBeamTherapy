{
 "cells": [
  {
   "cell_type": "code",
   "execution_count": null,
   "id": "basic-christian",
   "metadata": {},
   "outputs": [],
   "source": [
    "# default_exp analysis"
   ]
  },
  {
   "cell_type": "markdown",
   "id": "revised-individual",
   "metadata": {},
   "source": [
    "# Tools to analyze the results of Gate simulations"
   ]
  },
  {
   "cell_type": "code",
   "execution_count": null,
   "id": "civil-andrew",
   "metadata": {},
   "outputs": [],
   "source": [
    "#hide\n",
    "from nbdev.showdoc import *"
   ]
  },
  {
   "cell_type": "code",
   "execution_count": null,
   "id": "controlled-method",
   "metadata": {},
   "outputs": [],
   "source": [
    "#export\n",
    "import pandas as pd\n",
    "import uproot as rt\n",
    "import awkward as ak\n",
    "\n",
    "from scipy.stats import moyal\n",
    "import matplotlib.pyplot as plt\n",
    "import numpy as np\n",
    "import math\n",
    "from scipy import stats\n",
    "from scipy.stats import rv_continuous\n",
    "# import pylandau\n"
   ]
  },
  {
   "cell_type": "code",
   "execution_count": null,
   "id": "inner-genius",
   "metadata": {},
   "outputs": [],
   "source": [
    "#export\n",
    "def get_edep_data(df, sensor=-1):\n",
    "    \"\"\"returns an array of energies deposited in each event (keV)\"\"\"\n",
    "    \n",
    "   \n",
    "    \n",
    "    # sum all energy deposited in each event and convert the result to keV\n",
    "    if sensor == -1:\n",
    "        edep = df.groupby(['eventID'])['edep'].sum()*1000\n",
    "    else:\n",
    "        edep = (df[df['volumeID'] == sensor].groupby(['eventID']))['edep'].sum()*1000\n",
    "    return edep"
   ]
  },
  {
   "cell_type": "code",
   "execution_count": null,
   "id": "agreed-forest",
   "metadata": {},
   "outputs": [],
   "source": [
    "#export\n",
    "def get_df_subentry2(root_file_name):\n",
    "    \"\"\"returns a dataframe that contains only subentry 2 data\n",
    "    \n",
    "    This subentry seems to contain all the relevant information\"\"\"\n",
    "    \n",
    "    df = pd.DataFrame()\n",
    "    with rt.open(f'{root_file_name}:Hits') as tree:\n",
    "        df = ak.to_pandas(tree.arrays())\n",
    "    return df.xs(2, level='subentry')"
   ]
  },
  {
   "cell_type": "code",
   "execution_count": null,
   "id": "known-addiction",
   "metadata": {},
   "outputs": [],
   "source": [
    "edep = get_edep_data(df2, sensor=0)"
   ]
  },
  {
   "cell_type": "code",
   "execution_count": null,
   "id": "reasonable-biology",
   "metadata": {},
   "outputs": [
    {
     "data": {
      "image/png": "[encoded data removed]",
      "text/plain": [
       "<Figure size 432x288 with 1 Axes>"
      ]
     },
     "metadata": {
      "needs_background": "light"
     },
     "output_type": "display_data"
    }
   ],
   "source": [
    "_ = plt.hist(edep, bins=100, range=(0,1000))\n",
    "_ = plt.hist(get_edep_data(df2, sensor=1), bins=100, range=(0,1000))\n",
    "_ = plt.hist(get_edep_data(df2, sensor=2), bins=100, range=(0,1000))"
   ]
  },
  {
   "cell_type": "code",
   "execution_count": null,
   "id": "minor-cursor",
   "metadata": {},
   "outputs": [],
   "source": [
    "dfs =  ak.to_pandas(tree.arrays(), how=None)"
   ]
  },
  {
   "cell_type": "code",
   "execution_count": null,
   "id": "monthly-thompson",
   "metadata": {},
   "outputs": [],
   "source": [
    "df2 = get_df_subentry2('results/TrackerHits.root')"
   ]
  },
  {
   "cell_type": "code",
   "execution_count": null,
   "id": "christian-senator",
   "metadata": {},
   "outputs": [
    {
     "data": {
      "text/html": [
       "<div>\n",
       "<style scoped>\n",
       "    .dataframe tbody tr th:only-of-type {\n",
       "        vertical-align: middle;\n",
       "    }\n",
       "\n",
       "    .dataframe tbody tr th {\n",
       "        vertical-align: top;\n",
       "    }\n",
       "\n",
       "    .dataframe thead th {\n",
       "        text-align: right;\n",
       "    }\n",
       "</style>\n",
       "<table border=\"1\" class=\"dataframe\">\n",
       "  <thead>\n",
       "    <tr style=\"text-align: right;\">\n",
       "      <th></th>\n",
       "      <th>PDGEncoding</th>\n",
       "      <th>trackID</th>\n",
       "      <th>parentID</th>\n",
       "      <th>trackLocalTime</th>\n",
       "      <th>time</th>\n",
       "      <th>edep</th>\n",
       "      <th>stepLength</th>\n",
       "      <th>trackLength</th>\n",
       "      <th>posX</th>\n",
       "      <th>posY</th>\n",
       "      <th>...</th>\n",
       "      <th>level3ID</th>\n",
       "      <th>level4ID</th>\n",
       "      <th>level5ID</th>\n",
       "      <th>photonID</th>\n",
       "      <th>primaryID</th>\n",
       "      <th>sourcePosX</th>\n",
       "      <th>sourcePosY</th>\n",
       "      <th>sourcePosZ</th>\n",
       "      <th>eventID</th>\n",
       "      <th>volumeID</th>\n",
       "    </tr>\n",
       "  </thead>\n",
       "  <tbody>\n",
       "    <tr>\n",
       "      <th>count</th>\n",
       "      <td>4.562900e+04</td>\n",
       "      <td>45629.000000</td>\n",
       "      <td>45629.000000</td>\n",
       "      <td>4.562900e+04</td>\n",
       "      <td>4.562900e+04</td>\n",
       "      <td>45629.000000</td>\n",
       "      <td>45629.000000</td>\n",
       "      <td>45629.000000</td>\n",
       "      <td>45629.000000</td>\n",
       "      <td>45629.000000</td>\n",
       "      <td>...</td>\n",
       "      <td>45629.0</td>\n",
       "      <td>45629.0</td>\n",
       "      <td>45629.0</td>\n",
       "      <td>45629.000000</td>\n",
       "      <td>45629.0</td>\n",
       "      <td>45629.000000</td>\n",
       "      <td>45629.0</td>\n",
       "      <td>45629.000000</td>\n",
       "      <td>45629.000000</td>\n",
       "      <td>45629.000000</td>\n",
       "    </tr>\n",
       "    <tr>\n",
       "      <th>mean</th>\n",
       "      <td>1.908527e+06</td>\n",
       "      <td>10.987508</td>\n",
       "      <td>0.960223</td>\n",
       "      <td>1.464417e-09</td>\n",
       "      <td>1.940371e-09</td>\n",
       "      <td>0.296742</td>\n",
       "      <td>0.363181</td>\n",
       "      <td>223.497559</td>\n",
       "      <td>0.055488</td>\n",
       "      <td>-57.637703</td>\n",
       "      <td>...</td>\n",
       "      <td>-1.0</td>\n",
       "      <td>-1.0</td>\n",
       "      <td>-1.0</td>\n",
       "      <td>0.280830</td>\n",
       "      <td>1.0</td>\n",
       "      <td>0.004950</td>\n",
       "      <td>250.0</td>\n",
       "      <td>-0.046819</td>\n",
       "      <td>5015.894212</td>\n",
       "      <td>0.997896</td>\n",
       "    </tr>\n",
       "    <tr>\n",
       "      <th>std</th>\n",
       "      <td>4.362800e+07</td>\n",
       "      <td>20.096203</td>\n",
       "      <td>4.755743</td>\n",
       "      <td>5.048027e-08</td>\n",
       "      <td>5.048043e-08</td>\n",
       "      <td>0.319023</td>\n",
       "      <td>0.208492</td>\n",
       "      <td>133.447800</td>\n",
       "      <td>8.878907</td>\n",
       "      <td>8.150845</td>\n",
       "      <td>...</td>\n",
       "      <td>0.0</td>\n",
       "      <td>0.0</td>\n",
       "      <td>0.0</td>\n",
       "      <td>0.693484</td>\n",
       "      <td>0.0</td>\n",
       "      <td>2.006979</td>\n",
       "      <td>0.0</td>\n",
       "      <td>1.987851</td>\n",
       "      <td>2894.433983</td>\n",
       "      <td>0.815088</td>\n",
       "    </tr>\n",
       "    <tr>\n",
       "      <th>min</th>\n",
       "      <td>1.100000e+01</td>\n",
       "      <td>1.000000</td>\n",
       "      <td>0.000000</td>\n",
       "      <td>1.497200e-16</td>\n",
       "      <td>1.582761e-09</td>\n",
       "      <td>0.000000</td>\n",
       "      <td>0.000000</td>\n",
       "      <td>0.000045</td>\n",
       "      <td>-100.000000</td>\n",
       "      <td>-67.750000</td>\n",
       "      <td>...</td>\n",
       "      <td>-1.0</td>\n",
       "      <td>-1.0</td>\n",
       "      <td>-1.0</td>\n",
       "      <td>0.000000</td>\n",
       "      <td>1.0</td>\n",
       "      <td>-7.322752</td>\n",
       "      <td>250.0</td>\n",
       "      <td>-8.309025</td>\n",
       "      <td>1.000000</td>\n",
       "      <td>0.000000</td>\n",
       "    </tr>\n",
       "    <tr>\n",
       "      <th>25%</th>\n",
       "      <td>2.212000e+03</td>\n",
       "      <td>1.000000</td>\n",
       "      <td>0.000000</td>\n",
       "      <td>2.566274e-10</td>\n",
       "      <td>1.626562e-09</td>\n",
       "      <td>0.137833</td>\n",
       "      <td>0.165015</td>\n",
       "      <td>39.152031</td>\n",
       "      <td>-2.134838</td>\n",
       "      <td>-67.625427</td>\n",
       "      <td>...</td>\n",
       "      <td>-1.0</td>\n",
       "      <td>-1.0</td>\n",
       "      <td>-1.0</td>\n",
       "      <td>0.000000</td>\n",
       "      <td>1.0</td>\n",
       "      <td>-1.348591</td>\n",
       "      <td>250.0</td>\n",
       "      <td>-1.411121</td>\n",
       "      <td>2506.000000</td>\n",
       "      <td>0.000000</td>\n",
       "    </tr>\n",
       "    <tr>\n",
       "      <th>50%</th>\n",
       "      <td>2.212000e+03</td>\n",
       "      <td>1.000000</td>\n",
       "      <td>0.000000</td>\n",
       "      <td>1.627099e-09</td>\n",
       "      <td>1.681395e-09</td>\n",
       "      <td>0.317167</td>\n",
       "      <td>0.500014</td>\n",
       "      <td>297.765167</td>\n",
       "      <td>0.034097</td>\n",
       "      <td>-57.750000</td>\n",
       "      <td>...</td>\n",
       "      <td>-1.0</td>\n",
       "      <td>-1.0</td>\n",
       "      <td>-1.0</td>\n",
       "      <td>0.000000</td>\n",
       "      <td>1.0</td>\n",
       "      <td>0.007777</td>\n",
       "      <td>250.0</td>\n",
       "      <td>-0.039674</td>\n",
       "      <td>5035.000000</td>\n",
       "      <td>1.000000</td>\n",
       "    </tr>\n",
       "    <tr>\n",
       "      <th>75%</th>\n",
       "      <td>2.212000e+03</td>\n",
       "      <td>26.000000</td>\n",
       "      <td>1.000000</td>\n",
       "      <td>1.684809e-09</td>\n",
       "      <td>1.736495e-09</td>\n",
       "      <td>0.367868</td>\n",
       "      <td>0.500090</td>\n",
       "      <td>307.781647</td>\n",
       "      <td>2.158438</td>\n",
       "      <td>-47.750000</td>\n",
       "      <td>...</td>\n",
       "      <td>-1.0</td>\n",
       "      <td>-1.0</td>\n",
       "      <td>-1.0</td>\n",
       "      <td>0.000000</td>\n",
       "      <td>1.0</td>\n",
       "      <td>1.370587</td>\n",
       "      <td>250.0</td>\n",
       "      <td>1.309437</td>\n",
       "      <td>7534.000000</td>\n",
       "      <td>2.000000</td>\n",
       "    </tr>\n",
       "    <tr>\n",
       "      <th>max</th>\n",
       "      <td>1.000140e+09</td>\n",
       "      <td>1459.000000</td>\n",
       "      <td>208.000000</td>\n",
       "      <td>1.078314e-05</td>\n",
       "      <td>1.078472e-05</td>\n",
       "      <td>11.303608</td>\n",
       "      <td>11.534828</td>\n",
       "      <td>377.004395</td>\n",
       "      <td>100.000000</td>\n",
       "      <td>-47.250000</td>\n",
       "      <td>...</td>\n",
       "      <td>-1.0</td>\n",
       "      <td>-1.0</td>\n",
       "      <td>-1.0</td>\n",
       "      <td>2.000000</td>\n",
       "      <td>1.0</td>\n",
       "      <td>7.556628</td>\n",
       "      <td>250.0</td>\n",
       "      <td>8.603308</td>\n",
       "      <td>9998.000000</td>\n",
       "      <td>2.000000</td>\n",
       "    </tr>\n",
       "  </tbody>\n",
       "</table>\n",
       "<p>8 rows × 29 columns</p>\n",
       "</div>"
      ],
      "text/plain": [
       "        PDGEncoding       trackID      parentID  trackLocalTime          time  \\\n",
       "count  4.562900e+04  45629.000000  45629.000000    4.562900e+04  4.562900e+04   \n",
       "mean   1.908527e+06     10.987508      0.960223    1.464417e-09  1.940371e-09   \n",
       "std    4.362800e+07     20.096203      4.755743    5.048027e-08  5.048043e-08   \n",
       "min    1.100000e+01      1.000000      0.000000    1.497200e-16  1.582761e-09   \n",
       "25%    2.212000e+03      1.000000      0.000000    2.566274e-10  1.626562e-09   \n",
       "50%    2.212000e+03      1.000000      0.000000    1.627099e-09  1.681395e-09   \n",
       "75%    2.212000e+03     26.000000      1.000000    1.684809e-09  1.736495e-09   \n",
       "max    1.000140e+09   1459.000000    208.000000    1.078314e-05  1.078472e-05   \n",
       "\n",
       "               edep    stepLength   trackLength          posX          posY  \\\n",
       "count  45629.000000  45629.000000  45629.000000  45629.000000  45629.000000   \n",
       "mean       0.296742      0.363181    223.497559      0.055488    -57.637703   \n",
       "std        0.319023      0.208492    133.447800      8.878907      8.150845   \n",
       "min        0.000000      0.000000      0.000045   -100.000000    -67.750000   \n",
       "25%        0.137833      0.165015     39.152031     -2.134838    -67.625427   \n",
       "50%        0.317167      0.500014    297.765167      0.034097    -57.750000   \n",
       "75%        0.367868      0.500090    307.781647      2.158438    -47.750000   \n",
       "max       11.303608     11.534828    377.004395    100.000000    -47.250000   \n",
       "\n",
       "       ...  level3ID  level4ID  level5ID      photonID  primaryID  \\\n",
       "count  ...   45629.0   45629.0   45629.0  45629.000000    45629.0   \n",
       "mean   ...      -1.0      -1.0      -1.0      0.280830        1.0   \n",
       "std    ...       0.0       0.0       0.0      0.693484        0.0   \n",
       "min    ...      -1.0      -1.0      -1.0      0.000000        1.0   \n",
       "25%    ...      -1.0      -1.0      -1.0      0.000000        1.0   \n",
       "50%    ...      -1.0      -1.0      -1.0      0.000000        1.0   \n",
       "75%    ...      -1.0      -1.0      -1.0      0.000000        1.0   \n",
       "max    ...      -1.0      -1.0      -1.0      2.000000        1.0   \n",
       "\n",
       "         sourcePosX  sourcePosY    sourcePosZ       eventID      volumeID  \n",
       "count  45629.000000     45629.0  45629.000000  45629.000000  45629.000000  \n",
       "mean       0.004950       250.0     -0.046819   5015.894212      0.997896  \n",
       "std        2.006979         0.0      1.987851   2894.433983      0.815088  \n",
       "min       -7.322752       250.0     -8.309025      1.000000      0.000000  \n",
       "25%       -1.348591       250.0     -1.411121   2506.000000      0.000000  \n",
       "50%        0.007777       250.0     -0.039674   5035.000000      1.000000  \n",
       "75%        1.370587       250.0      1.309437   7534.000000      2.000000  \n",
       "max        7.556628       250.0      8.603308   9998.000000      2.000000  \n",
       "\n",
       "[8 rows x 29 columns]"
      ]
     },
     "execution_count": null,
     "metadata": {},
     "output_type": "execute_result"
    }
   ],
   "source": [
    "null_columns = [col for col in df2.columns if df2[col].max() == 0 and df2[col].min() == 0]\n",
    "df2.drop(columns=null_columns, inplace=True)"
   ]
  },
  {
   "cell_type": "code",
   "execution_count": null,
   "id": "general-perspective",
   "metadata": {},
   "outputs": [
    {
     "data": {
      "text/html": [
       "<div>\n",
       "<style scoped>\n",
       "    .dataframe tbody tr th:only-of-type {\n",
       "        vertical-align: middle;\n",
       "    }\n",
       "\n",
       "    .dataframe tbody tr th {\n",
       "        vertical-align: top;\n",
       "    }\n",
       "\n",
       "    .dataframe thead th {\n",
       "        text-align: right;\n",
       "    }\n",
       "</style>\n",
       "<table border=\"1\" class=\"dataframe\">\n",
       "  <thead>\n",
       "    <tr style=\"text-align: right;\">\n",
       "      <th></th>\n",
       "      <th>PDGEncoding</th>\n",
       "      <th>trackID</th>\n",
       "      <th>parentID</th>\n",
       "      <th>trackLocalTime</th>\n",
       "      <th>time</th>\n",
       "      <th>edep</th>\n",
       "      <th>stepLength</th>\n",
       "      <th>trackLength</th>\n",
       "      <th>posX</th>\n",
       "      <th>posY</th>\n",
       "      <th>...</th>\n",
       "      <th>momDirX</th>\n",
       "      <th>momDirY</th>\n",
       "      <th>momDirZ</th>\n",
       "      <th>level1ID</th>\n",
       "      <th>photonID</th>\n",
       "      <th>sourcePosX</th>\n",
       "      <th>sourcePosZ</th>\n",
       "      <th>eventID</th>\n",
       "      <th>volumeID</th>\n",
       "      <th>processName</th>\n",
       "    </tr>\n",
       "    <tr>\n",
       "      <th>entry</th>\n",
       "      <th></th>\n",
       "      <th></th>\n",
       "      <th></th>\n",
       "      <th></th>\n",
       "      <th></th>\n",
       "      <th></th>\n",
       "      <th></th>\n",
       "      <th></th>\n",
       "      <th></th>\n",
       "      <th></th>\n",
       "      <th></th>\n",
       "      <th></th>\n",
       "      <th></th>\n",
       "      <th></th>\n",
       "      <th></th>\n",
       "      <th></th>\n",
       "      <th></th>\n",
       "      <th></th>\n",
       "      <th></th>\n",
       "      <th></th>\n",
       "      <th></th>\n",
       "    </tr>\n",
       "  </thead>\n",
       "  <tbody>\n",
       "    <tr>\n",
       "      <th>0</th>\n",
       "      <td>2212</td>\n",
       "      <td>1</td>\n",
       "      <td>0</td>\n",
       "      <td>1.625228e-09</td>\n",
       "      <td>1.625228e-09</td>\n",
       "      <td>0.394049</td>\n",
       "      <td>0.500008</td>\n",
       "      <td>297.753906</td>\n",
       "      <td>-0.089870</td>\n",
       "      <td>-47.75</td>\n",
       "      <td>...</td>\n",
       "      <td>-0.022373</td>\n",
       "      <td>-0.999483</td>\n",
       "      <td>0.023074</td>\n",
       "      <td>0</td>\n",
       "      <td>2</td>\n",
       "      <td>-0.391837</td>\n",
       "      <td>0.482372</td>\n",
       "      <td>1</td>\n",
       "      <td>0</td>\n",
       "      <td>Transportation</td>\n",
       "    </tr>\n",
       "    <tr>\n",
       "      <th>1</th>\n",
       "      <td>2212</td>\n",
       "      <td>1</td>\n",
       "      <td>0</td>\n",
       "      <td>1.681641e-09</td>\n",
       "      <td>1.681641e-09</td>\n",
       "      <td>0.435780</td>\n",
       "      <td>0.500258</td>\n",
       "      <td>307.759064</td>\n",
       "      <td>-0.313312</td>\n",
       "      <td>-57.75</td>\n",
       "      <td>...</td>\n",
       "      <td>-0.025283</td>\n",
       "      <td>-0.999469</td>\n",
       "      <td>0.020532</td>\n",
       "      <td>-1</td>\n",
       "      <td>2</td>\n",
       "      <td>-0.391837</td>\n",
       "      <td>0.482372</td>\n",
       "      <td>1</td>\n",
       "      <td>1</td>\n",
       "      <td>Transportation</td>\n",
       "    </tr>\n",
       "    <tr>\n",
       "      <th>2</th>\n",
       "      <td>2212</td>\n",
       "      <td>1</td>\n",
       "      <td>0</td>\n",
       "      <td>1.738094e-09</td>\n",
       "      <td>1.738094e-09</td>\n",
       "      <td>0.393910</td>\n",
       "      <td>0.500265</td>\n",
       "      <td>317.764343</td>\n",
       "      <td>-0.565760</td>\n",
       "      <td>-67.75</td>\n",
       "      <td>...</td>\n",
       "      <td>-0.023668</td>\n",
       "      <td>-0.999491</td>\n",
       "      <td>0.021390</td>\n",
       "      <td>-1</td>\n",
       "      <td>2</td>\n",
       "      <td>-0.391837</td>\n",
       "      <td>0.482372</td>\n",
       "      <td>1</td>\n",
       "      <td>2</td>\n",
       "      <td>Transportation</td>\n",
       "    </tr>\n",
       "    <tr>\n",
       "      <th>3</th>\n",
       "      <td>2212</td>\n",
       "      <td>1</td>\n",
       "      <td>0</td>\n",
       "      <td>1.621733e-09</td>\n",
       "      <td>1.621733e-09</td>\n",
       "      <td>0.352901</td>\n",
       "      <td>0.500019</td>\n",
       "      <td>297.757568</td>\n",
       "      <td>-0.656078</td>\n",
       "      <td>-47.75</td>\n",
       "      <td>...</td>\n",
       "      <td>-0.002678</td>\n",
       "      <td>-0.999953</td>\n",
       "      <td>-0.009338</td>\n",
       "      <td>0</td>\n",
       "      <td>0</td>\n",
       "      <td>-1.324143</td>\n",
       "      <td>-3.748219</td>\n",
       "      <td>2</td>\n",
       "      <td>0</td>\n",
       "      <td>Transportation</td>\n",
       "    </tr>\n",
       "    <tr>\n",
       "      <th>4</th>\n",
       "      <td>2212</td>\n",
       "      <td>1</td>\n",
       "      <td>0</td>\n",
       "      <td>1.677973e-09</td>\n",
       "      <td>1.677973e-09</td>\n",
       "      <td>0.336591</td>\n",
       "      <td>0.500025</td>\n",
       "      <td>307.758057</td>\n",
       "      <td>-0.683030</td>\n",
       "      <td>-57.75</td>\n",
       "      <td>...</td>\n",
       "      <td>-0.000312</td>\n",
       "      <td>-0.999964</td>\n",
       "      <td>-0.008490</td>\n",
       "      <td>-1</td>\n",
       "      <td>0</td>\n",
       "      <td>-1.324143</td>\n",
       "      <td>-3.748219</td>\n",
       "      <td>2</td>\n",
       "      <td>1</td>\n",
       "      <td>Transportation</td>\n",
       "    </tr>\n",
       "  </tbody>\n",
       "</table>\n",
       "<p>5 rows × 24 columns</p>\n",
       "</div>"
      ],
      "text/plain": [
       "       PDGEncoding  trackID  parentID  trackLocalTime          time      edep  \\\n",
       "entry                                                                           \n",
       "0             2212        1         0    1.625228e-09  1.625228e-09  0.394049   \n",
       "1             2212        1         0    1.681641e-09  1.681641e-09  0.435780   \n",
       "2             2212        1         0    1.738094e-09  1.738094e-09  0.393910   \n",
       "3             2212        1         0    1.621733e-09  1.621733e-09  0.352901   \n",
       "4             2212        1         0    1.677973e-09  1.677973e-09  0.336591   \n",
       "\n",
       "       stepLength  trackLength      posX   posY  ...   momDirX   momDirY  \\\n",
       "entry                                            ...                       \n",
       "0        0.500008   297.753906 -0.089870 -47.75  ... -0.022373 -0.999483   \n",
       "1        0.500258   307.759064 -0.313312 -57.75  ... -0.025283 -0.999469   \n",
       "2        0.500265   317.764343 -0.565760 -67.75  ... -0.023668 -0.999491   \n",
       "3        0.500019   297.757568 -0.656078 -47.75  ... -0.002678 -0.999953   \n",
       "4        0.500025   307.758057 -0.683030 -57.75  ... -0.000312 -0.999964   \n",
       "\n",
       "        momDirZ  level1ID  photonID  sourcePosX  sourcePosZ  eventID  \\\n",
       "entry                                                                  \n",
       "0      0.023074         0         2   -0.391837    0.482372        1   \n",
       "1      0.020532        -1         2   -0.391837    0.482372        1   \n",
       "2      0.021390        -1         2   -0.391837    0.482372        1   \n",
       "3     -0.009338         0         0   -1.324143   -3.748219        2   \n",
       "4     -0.008490        -1         0   -1.324143   -3.748219        2   \n",
       "\n",
       "       volumeID     processName  \n",
       "entry                            \n",
       "0             0  Transportation  \n",
       "1             1  Transportation  \n",
       "2             2  Transportation  \n",
       "3             0  Transportation  \n",
       "4             1  Transportation  \n",
       "\n",
       "[5 rows x 24 columns]"
      ]
     },
     "execution_count": null,
     "metadata": {},
     "output_type": "execute_result"
    }
   ],
   "source": [
    "single_value_columns = [col for col in df2.columns if df[col].max() ==  df[col].min()]\n",
    "df2.drop(columns=single_value_columns, inplace=True)\n",
    "df2.head()"
   ]
  },
  {
   "cell_type": "code",
   "execution_count": null,
   "id": "sought-equipment",
   "metadata": {},
   "outputs": [
    {
     "data": {
      "image/png": "[encoded data removed]",
      "text/plain": [
       "<Figure size 432x288 with 1 Axes>"
      ]
     },
     "metadata": {
      "needs_background": "light"
     },
     "output_type": "display_data"
    }
   ],
   "source": [
    "_ = plt.hist2d(df2['posX']-df2['sourcePosX'], df2['posY'], bins=(100, 80), norm=mcolors.LogNorm())"
   ]
  },
  {
   "cell_type": "code",
   "execution_count": null,
   "id": "weird-arizona",
   "metadata": {},
   "outputs": [],
   "source": [
    "df2_sensor0 = df2[df2.volumeID == 0]"
   ]
  },
  {
   "cell_type": "code",
   "execution_count": null,
   "id": "recreational-emerald",
   "metadata": {},
   "outputs": [
    {
     "data": {
      "image/png": "[encoded data removed]",
      "text/plain": [
       "<Figure size 432x288 with 1 Axes>"
      ]
     },
     "metadata": {
      "needs_background": "light"
     },
     "output_type": "display_data"
    }
   ],
   "source": [
    "_= plt.hist((df2_sensor0[(df2_sensor0['processName']=='Transportation') & (df2_sensor0['posY']==-47.25)]).edep,log=True, density=True, bins = 100)\n",
    "_= plt.hist((df2_sensor0[(df2_sensor0['processName']=='Transportation') & (df2_sensor0['posY']==-47.75)]).edep,log=True, density=True,bins = 100)"
   ]
  },
  {
   "cell_type": "code",
   "execution_count": null,
   "id": "fancy-tradition",
   "metadata": {},
   "outputs": [
    {
     "data": {
      "image/png": "[encoded data removed]",
      "text/plain": [
       "<Figure size 432x288 with 1 Axes>"
      ]
     },
     "metadata": {
      "needs_background": "light"
     },
     "output_type": "display_data"
    }
   ],
   "source": [
    "from matplotlib.pyplot import hist2d\n",
    "import matplotlib.colors as mcolors\n",
    "_= hist2d(df2.volumeID, df2.posY, bins=(12,100), norm=mcolors.LogNorm())"
   ]
  },
  {
   "cell_type": "code",
   "execution_count": null,
   "id": "floppy-shape",
   "metadata": {},
   "outputs": [
    {
     "data": {
      "image/png": "[encoded data removed]",
      "text/plain": [
       "<Figure size 432x288 with 1 Axes>"
      ]
     },
     "metadata": {
      "needs_background": "light"
     },
     "output_type": "display_data"
    }
   ],
   "source": [
    "_ = hist2d(df.trackLength, df.volumeID, bins=(100, 12), norm=mcolors.LogNorm())"
   ]
  },
  {
   "cell_type": "code",
   "execution_count": null,
   "id": "central-experiment",
   "metadata": {},
   "outputs": [],
   "source": [
    "#export\n",
    "def find_max_nonzero(array_hist):\n",
    "    previous = -1\n",
    "    preprevious  = -1\n",
    "    p_b = -1\n",
    "    pp_b = -1\n",
    "    for v, b in zip(array_hist[0],array_hist[1]):\n",
    "        if preprevious != 0 and previous == 0 and v == 0:\n",
    "            return math.ceil(p_b)\n",
    "        pp_b = p_b\n",
    "        p_b = b\n",
    "        preprevious = previous\n",
    "        previous = v\n",
    "    "
   ]
  },
  {
   "cell_type": "code",
   "execution_count": null,
   "id": "revolutionary-words",
   "metadata": {},
   "outputs": [],
   "source": [
    "#export\n",
    "def find_range(param):\n",
    "    array_hist = plt.hist(param, bins=100)\n",
    "    upper_limit = find_max_nonzero(array_hist)\n",
    "    ret = -1\n",
    "    while upper_limit:\n",
    "        ret = upper_limit\n",
    "        array_hist = plt.hist(param[param < upper_limit], bins=100)\n",
    "        upper_limit = find_max_nonzero(array_hist)\n",
    "    return ret"
   ]
  },
  {
   "cell_type": "code",
   "execution_count": null,
   "id": "funded-patent",
   "metadata": {},
   "outputs": [],
   "source": [
    "class landau_gen(rv_continuous):\n",
    "    r\"\"\"A Landau continuous random variable.\n",
    "    %(before_notes)s\n",
    "    Notes\n",
    "    -----\n",
    "    The probability density function for `Landau` is:\n",
    "    \n",
    "    for a real number :math:`x`.\n",
    "    %(after_notes)s\n",
    "    This distribution has utility in high-energy physics and radiation\n",
    "    detection. It describes the energy loss of a charged relativistic\n",
    "    particle due to ionization of the medium . \n",
    "    \"\"\"\n",
    "    \n",
    "    def _pdf(self, x):\n",
    "        return pylandau.landau_pdf(np.float64(x))\n",
    "\n",
    "\n",
    "landau = landau_gen(name=\"landau\")"
   ]
  },
  {
   "cell_type": "code",
   "execution_count": null,
   "id": "expected-uncertainty",
   "metadata": {},
   "outputs": [
    {
     "data": {
      "text/plain": [
       "Series([], Name: edep, dtype: float32)"
      ]
     },
     "execution_count": null,
     "metadata": {},
     "output_type": "execute_result"
    }
   ],
   "source": [
    "edep = get_edep_data('results/TrackerHits.root')\n",
    "edep"
   ]
  },
  {
   "cell_type": "code",
   "execution_count": null,
   "id": "amino-savings",
   "metadata": {},
   "outputs": [
    {
     "name": "stdout",
     "output_type": "stream",
     "text": [
      "Converted 00_macro_tools.ipynb.\n",
      "Converted 01_analysis.ipynb.\n",
      "Converted 02_scanners.ipynb.\n",
      "Converted index.ipynb.\n"
     ]
    }
   ],
   "source": [
    "#hide\n",
    "from nbdev.export import notebook2script; notebook2script()"
   ]
  },
  {
   "cell_type": "code",
   "execution_count": null,
   "id": "polish-mauritius",
   "metadata": {},
   "outputs": [
    {
     "name": "stdout",
     "output_type": "stream",
     "text": [
      "31.21577349933282 55.7683201223829\n"
     ]
    },
    {
     "name": "stderr",
     "output_type": "stream",
     "text": [
      "/Library/Frameworks/Python.framework/Versions/3.9/lib/python3.9/site-packages/scipy/stats/_distn_infrastructure.py:1797: RuntimeWarning: divide by zero encountered in log\n",
      "  return log(self._pdf(x, *args))\n"
     ]
    }
   ],
   "source": [
    "loc,scale =  moyal.fit(edep)\n",
    "print(loc, scale)"
   ]
  },
  {
   "cell_type": "code",
   "execution_count": null,
   "id": "economic-albuquerque",
   "metadata": {},
   "outputs": [
    {
     "name": "stderr",
     "output_type": "stream",
     "text": [
      "<ipython-input-148-8412bcfafa05>:19: DeprecationWarning: `np.float` is a deprecated alias for the builtin `float`. To silence this warning, use `float` by itself. Doing this will not modify any behavior and is safe. If you specifically wanted the numpy scalar type, use `np.float64` here.\n",
      "Deprecated in NumPy 1.20; for more details and guidance: https://numpy.org/devdocs/release/1.20.0-notes.html#deprecations\n",
      "  return pylandau.landau_pdf(np.float64(x))\n",
      "<ipython-input-148-8412bcfafa05>:19: DeprecationWarning: `np.float` is a deprecated alias for the builtin `float`. To silence this warning, use `float` by itself. Doing this will not modify any behavior and is safe. If you specifically wanted the numpy scalar type, use `np.float64` here.\n",
      "Deprecated in NumPy 1.20; for more details and guidance: https://numpy.org/devdocs/release/1.20.0-notes.html#deprecations\n",
      "  return pylandau.landau_pdf(np.float64(x))\n"
     ]
    },
    {
     "data": {
      "text/plain": [
       "<matplotlib.legend.Legend at 0x7f9e285cd100>"
      ]
     },
     "execution_count": null,
     "metadata": {},
     "output_type": "execute_result"
    },
    {
     "data": {
      "image/png": "[encoded data removed]",
      "text/plain": [
       "<Figure size 504x216 with 1 Axes>"
      ]
     },
     "metadata": {
      "needs_background": "light"
     },
     "output_type": "display_data"
    }
   ],
   "source": [
    "fig1, ax1 = plt.subplots(figsize=(7, 3))\n",
    "x = np.linspace(0, 100, 200)\n",
    "ax1.plot(x, moyal.pdf(x, loc, scale), label = 'Moyal MLE fit')\n",
    "_ = ax1.hist(edep[edep < 100], bins = 100, histtype='step', density= True, label = 'sim data')\n",
    "ax1.plot(x, landau.pdf(x, 23.973851592546183, 2.921658875656049), label='Landau MLE fit')\n",
    "ax1.plot(x, landau.pdf(x, 24.13, 2.629), label='Meine Landau mit deine fit Parametern')\n",
    "#ax1.scatter(GeV8_data.energy, GeV8_data.counts/4400, label = 'data', marker='o',  c = 'green', alpha = 0.5)\n",
    "plt.xlabel('keV')\n",
    "ax1.legend()"
   ]
  },
  {
   "cell_type": "code",
   "execution_count": null,
   "id": "fiscal-above",
   "metadata": {},
   "outputs": [
    {
     "name": "stdout",
     "output_type": "stream",
     "text": [
      "24.01278866991769 3.401363731100145\n"
     ]
    }
   ],
   "source": [
    "loc,scale =  moyal.fit(edep[edep < 50])\n",
    "print(loc, scale)"
   ]
  },
  {
   "cell_type": "code",
   "execution_count": null,
   "id": "common-secretary",
   "metadata": {},
   "outputs": [
    {
     "name": "stdout",
     "output_type": "stream",
     "text": [
      "Mean:        35.96607971191406,       Error on mean: 1.420998077392578, SNR: 25.310435168152406\n",
      "Trimmed mean 32.43781762604408, Error on trimmed mean: 0.1832643962128964, SNR: 177.00010638379206\n"
     ]
    }
   ],
   "source": [
    "m = np.mean(edep)\n",
    "em = stats.sem(edep)\n",
    "tm = stats.tmean(edep, limits=(edep.min(),np.mean(edep) + 1 * np.std(edep) + 2))\n",
    "etm = stats.tsem(edep, limits=(edep.min(),np.mean(edep) + 1 * np.std(edep) + 2))\n",
    "print(f'Mean:        {m},       Error on mean: {em}, SNR: {m/em}')\n",
    "print(f'Trimmed mean {tm}, Error on trimmed mean: {etm}, SNR: {tm/etm}')\n",
    "#print(stats.mode(np.round(edep, 0)))\n"
   ]
  },
  {
   "cell_type": "code",
   "execution_count": null,
   "id": "lined-officer",
   "metadata": {},
   "outputs": [],
   "source": [
    "## edep.to_csv('simdata.csv', sep =',', mode='w')"
   ]
  },
  {
   "cell_type": "code",
   "execution_count": null,
   "id": "public-defendant",
   "metadata": {},
   "outputs": [],
   "source": []
  }
 ],
 "metadata": {
  "kernelspec": {
   "display_name": "Python 3",
   "language": "python",
   "name": "python3"
  }
 },
 "nbformat": 4,
 "nbformat_minor": 5
}
