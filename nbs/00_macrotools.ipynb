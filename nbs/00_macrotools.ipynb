{
 "cells": [
  {
   "cell_type": "code",
   "execution_count": null,
   "metadata": {},
   "outputs": [],
   "source": [
    "# default_exp macrotools"
   ]
  },
  {
   "cell_type": "markdown",
   "metadata": {},
   "source": [
    "# Tools to create macros for GATE simulations\n",
    "\n",
    "> API details."
   ]
  },
  {
   "cell_type": "code",
   "execution_count": null,
   "metadata": {},
   "outputs": [],
   "source": [
    "#hide\n",
    "from nbdev.showdoc import *"
   ]
  },
  {
   "cell_type": "code",
   "execution_count": null,
   "metadata": {},
   "outputs": [],
   "source": [
    "#hide\n",
    "from ProtonBeamTherapy.analysis import *"
   ]
  },
  {
   "cell_type": "code",
   "execution_count": null,
   "metadata": {},
   "outputs": [],
   "source": [
    "#hide\n",
    "%load_ext autoreload\n",
    "%autoreload 2"
   ]
  },
  {
   "cell_type": "markdown",
   "metadata": {},
   "source": [
    "## MacroWriter class\n",
    "Main class for creating a macro file to be run by [Gate](http://www.opengatecollaboration.org). "
   ]
  },
  {
   "cell_type": "code",
   "execution_count": null,
   "metadata": {},
   "outputs": [],
   "source": [
    "#export\n",
    "import subprocess\n",
    "from os import path\n",
    "from time import strftime\n",
    "\n",
    "class MacroWriter:\n",
    "    \"\"\"Main class for creating a macro file to be run by `gate`\n",
    "    \n",
    "    \"\"\"\n",
    "    def __init__(self, macro_folder='../mac', results_folder='../results', logs_folder='../logs', system_thickness=1,\n",
    "                 system_y_loc=0, sensor_material='Silicon', physics_list='QGSP_BERT_EMV'):\n",
    "        self.macro = macro_folder\n",
    "        self.results = results_folder\n",
    "        self.logs = logs_folder\n",
    "        self.sensor_material = sensor_material\n",
    "        self.physics_list = physics_list\n",
    "        self.macro_dict = dict.fromkeys(['geometry', 'physics', 'actors', 'intialisation', 'beam', 'start_beam'])\n",
    "        self.geometry_dict = {}\n",
    "        self.physics_dict = {}\n",
    "        self.actor_dict = {}\n",
    "        self.no_system = True\n",
    "        self.system_y_loc = system_y_loc\n",
    "        self.system_thickness = system_thickness\n",
    "        self.results_files = {key:[] for key in ['trackers', 'hits', 'dose']}\n",
    "        self.timestamp = strftime(\"%Y%b%d_%H%M%S\")\n",
    "        self.beam_created = False\n",
    "        \n",
    "    def create_sensor(self, n=0, x_length=20, z_length=20, thickness=0.1, x_loc=0, y_loc=0, z_loc=0, \n",
    "                  system='scanner'):\n",
    "    \n",
    "        \"\"\"Compose a GATE macro for creating a sensor\n",
    "\n",
    "        In the current implementation snesor is a flat plane perpendicular to the beam \n",
    "        which is by default in y direction\n",
    "        thickness dimension is in mm\n",
    "        all other dimensions are in cm\"\"\"\n",
    "        \n",
    "        # move starting point from the center to the top_surface of the system\n",
    "        # print(f'system thickness: {self.system_thickness}')\n",
    "        y_loc = self.system_thickness / 2 - thickness / 2 + y_loc       \n",
    "        # print(f'y location of sensor {n} is: {y_loc}')\n",
    "        # create system fisrt but only once\n",
    "        geometry_lines = ''\n",
    "        if self.no_system:\n",
    "            # print(f'system created with: thickness: {self.system_thickness} at loc: {self.system_y_loc}')\n",
    "            geometry_lines += self.create_system(thickness = self.system_thickness, y_loc=self.system_y_loc)\n",
    "            self.no_system = False\n",
    "            \n",
    "        # then add sensor lines\n",
    "        geometry_lines += f\"\"\"\n",
    "        #sensor\n",
    "        /gate/scanner/daughters/name sensor{n}\n",
    "        /gate/{system}/daughters/insert box\n",
    "        /gate/sensor{n}/geometry/setXLength      {x_length} cm\n",
    "        /gate/sensor{n}/geometry/setYLength      {round(thickness,3)} mm\n",
    "        /gate/sensor{n}/geometry/setZLength      {z_length} cm\n",
    "        /gate/sensor{n}/setMaterial {self.sensor_material}\n",
    "        /gate/sensor{n}/placement/setTranslation {x_loc} {y_loc} {z_loc} cm\n",
    "        /gate/sensor{n}/vis/setVisible 1\n",
    "        /gate/sensor{n}/vis/setColor magenta\n",
    "        /gate/systems/{system}/level1/attach sensor{n}\n",
    "        /gate/sensor{n}/attachCrystalSD\n",
    "        \"\"\"\n",
    "        \n",
    "        physics_lines = f\"\"\"\n",
    "        \"\"\"\n",
    "\n",
    "        self.geometry_dict[f'sensor{n}'] = geometry_lines\n",
    "        self.physics_dict[f'sensor{n}'] = physics_lines\n",
    "            \n",
    "    def create_system(self, x_length=20, z_length=20, thickness=1, x_loc=0, y_loc=0, z_loc=0, \n",
    "                      system='scanner'):\n",
    "        system_lines = f'''\n",
    "        /gate/world/daughters/name              {system}\n",
    "        /gate/world/daughters/insert            box\n",
    "        /gate/scanner/geometry/setXLength      {x_length} cm\n",
    "        /gate/scanner/geometry/setYLength      {thickness} cm\n",
    "        /gate/scanner/geometry/setZLength      {z_length} cm\n",
    "        /gate/scanner/placement/setTranslation {x_loc} {y_loc} {z_loc} cm\n",
    "        /gate/scanner/setMaterial Air\n",
    "        /gate/scanner/vis/setVisible 1\n",
    "        /gate/scanner/vis/setColor cyan\n",
    "        /gate/scanner/vis/setLineStyle dashed\n",
    "        '''\n",
    "        return system_lines\n",
    "        \n",
    "    def create_phantom_layer(self, n=0, x_length=20, z_length=20, thickness=1, x_loc=0, y_loc=0, z_loc=0, \n",
    "                             material='Water', color='blue'):\n",
    "        '''\n",
    "        Compose a GATE macro for creating a phantom box.\n",
    "        \n",
    "        which in the current implementation is a flat box perpendicular to beam which is in y direction\n",
    "        all dimensions are in cm\n",
    "        '''\n",
    "        tracker_results_path = path.join(self.results, f'tracker_{self.timestamp}_{n}.root')\n",
    "        dose_results_path = path.join(self.results, f'dose_{self.timestamp}_{n}.txt')\n",
    "        \n",
    "        self.results_files['trackers'].append(tracker_results_path)\n",
    "        self.results_files['dose'].append(dose_results_path)\n",
    "        if material == 'Skull':\n",
    "            color = 'yellow'\n",
    "        \n",
    "        geometry_lines = f\"\"\"\n",
    "        #phatom box {n}\n",
    "        /gate/world/daughters/name              box{n}\n",
    "        /gate/world/daughters/insert            box\n",
    "        /gate/box{n}/geometry/setXLength      {x_length} cm\n",
    "        /gate/box{n}/geometry/setYLength      {thickness} cm\n",
    "        /gate/box{n}/geometry/setZLength      {z_length} cm\n",
    "        /gate/box{n}/placement/setTranslation {x_loc} {y_loc} {z_loc} cm\n",
    "        /gate/box{n}/setMaterial {material}\n",
    "        /gate/box{n}/vis/setVisible 1\n",
    "        /gate/box{n}/vis/setColor {color}\n",
    "        \"\"\"\n",
    "        physics_lines = f\"\"\"#*************************************************************\n",
    "        #  Physics (infrared divergence) cuts for the layer{n}\n",
    "        #*************************************************************\n",
    "        /gate/physics/Gamma/SetCutInRegion      box{n} 0.1 mm\n",
    "        /gate/physics/Electron/SetCutInRegion   box{n} 0.1 mm\n",
    "        /gate/physics/Positron/SetCutInRegion   box{n} 0.1 mm\n",
    "        \"\"\"\n",
    "        actor_lines = f\"\"\"#*************************************************************\n",
    "        # attached actor to the box{n}\n",
    "        #***************************************************************\n",
    "        /gate/actor/addActor PhaseSpaceActor         tracker{n}\n",
    "        /gate/actor/tracker{n}/save                     {tracker_results_path}\n",
    "        /gate/actor/tracker{n}/attachTo                 box{n}\n",
    "        /gate/actor/tracker{n}/enableNuclearFlag          true\n",
    "        /gate/actor/tracker{n}/enableProductionProcess  false\n",
    "        #/gate/actor/tracker{n}/useVolumeFrame           true\n",
    "        /gate/actor/tracker{n}/storeOutgoingParticles true\n",
    "        \n",
    "        /gate/actor/addActor DoseActor             dose{n}\n",
    "        /gate/actor/dose{n}/save                   {dose_results_path}\n",
    "        /gate/actor/dose{n}/attachTo               box{n}\n",
    "        /gate/actor/dose{n}/stepHitType            random\n",
    "        /gate/actor/dose{n}/setResolution          1 10 1\n",
    "        /gate/actor/dose{n}/enableDose             true\n",
    "        #/gate/actor/dose{n}/enableUncertaintyDose  true\n",
    "        #/gate/actor/dose{n}/enableNumberOfHits     true\n",
    "        \"\"\"\n",
    "        self.geometry_dict[f'layer{n}'] = geometry_lines\n",
    "        self.physics_dict[f'layer{n}'] = physics_lines\n",
    "        self.actor_dict[f'layer{n}'] = actor_lines\n",
    "        \n",
    "    def create_physics(self):\n",
    "        physics_lines = f'''/gate/physics/addPhysicsList {self.physics_list}\n",
    "        /gate/physics/Gamma/SetCutInRegion      world 1 mm\n",
    "        /gate/physics/Electron/SetCutInRegion   world 1 mm\n",
    "        /gate/physics/Positron/SetCutInRegion   world 1 mm\n",
    "        \n",
    "        /gate/physics/Gamma/SetCutInRegion      scanner 0.1 mm\n",
    "        /gate/physics/Electron/SetCutInRegion   scanner 0.1 mm\n",
    "        /gate/physics/Positron/SetCutInRegion   scanner 0.1 mm\n",
    "\n",
    "        \n",
    "        /gate/physics/SetMaxStepSizeInRegion world 1 mm\n",
    "        /gate/physics/ActivateStepLimiter proton\n",
    "        /gate/physics/ActivateStepLimiter deuteron\n",
    "        /gate/physics/ActivateStepLimiter triton\n",
    "        /gate/physics/ActivateStepLimiter alpha\n",
    "        /gate/physics/ActivateStepLimiter GenericIon\n",
    "\n",
    "        /gate/physics/displayCuts\n",
    "\n",
    "        #/gate/physics/addProcess LowEnergyHadronIonisation\n",
    "        /gate/physics/addProcess HadronIonisation proton\n",
    "        '''\n",
    "        # add lines from phantom and sensors\n",
    "        for item in self.physics_dict.values():\n",
    "            physics_lines += item          \n",
    "        # write to file and mark it with current timestamp\n",
    "        macro_name = f'physics{self.timestamp}.mac'\n",
    "        self.macro_dict['physics'] = macro_name\n",
    "        with open(f'{self.macro}/{macro_name}', 'w') as f:\n",
    "            f.write(physics_lines)\n",
    "            \n",
    "    def create_geometry(self):\n",
    "        geometry_lines = f'''\n",
    "        /gate/geometry/setMaterialDatabase ../data/GateMaterials.db\n",
    "        \n",
    "        # World\n",
    "        /gate/world/geometry/setXLength 50 cm\n",
    "        /gate/world/geometry/setYLength 50 cm\n",
    "        /gate/world/geometry/setZLength 50 cm\n",
    "        /gate/world/setMaterial Air\n",
    "        '''\n",
    "             \n",
    "        for item in self.geometry_dict.values():\n",
    "            geometry_lines += item\n",
    "        \n",
    "        macro_name = f'geometry{self.timestamp}.mac'\n",
    "        self.macro_dict['geometry'] = macro_name\n",
    "        with open(f'{self.macro}/{macro_name}', 'w') as f:\n",
    "            f.write(geometry_lines)\n",
    "            \n",
    "    def create_actors(self):\n",
    "        actor_lines = f'''\n",
    "        /gate/actor/addActor ProtonNuclearInformationActor myNuclearInfoActor\n",
    "        /gate/actor/myNuclearInfoActor/attachTo            world\n",
    "        '''\n",
    "        for item in self.actor_dict.values():\n",
    "            actor_lines += item\n",
    "        \n",
    "        macro_name = f'actor{self.timestamp}.mac'\n",
    "        self.macro_dict['actors'] = macro_name\n",
    "        with open(f'{self.macro}/{macro_name}', 'w') as f:\n",
    "            f.write(actor_lines)\n",
    "            \n",
    "    def create_initialization(self):\n",
    "        lines = f'''\n",
    "        /gate/run/initialize\n",
    "        # Enable the following lines to display available and enabled processes\n",
    "        # /gate/physics/processList Available\n",
    "        # /gate/physics/processList Enabled\n",
    "        '''\n",
    "        macro_name = f'initialise{self.timestamp}.mac'\n",
    "        self.macro_dict['intialisation'] = macro_name\n",
    "        with open(f'{self.macro}/{macro_name}', 'w') as f:\n",
    "            f.write(lines)\n",
    "        \n",
    "    def create_beam(self, energy=250, sigma_energy=1.0, position={'x':0, 'y':250, 'z':0}):\n",
    "        self.beam_created = True\n",
    "        lines = f'''\n",
    "        #=====================================================\n",
    "        # BEAMS\n",
    "        #=====================================================\n",
    "        /gate/source/addSource PBS PencilBeam\n",
    "        /gate/source/PBS/setParticleType proton\n",
    "        /gate/source/PBS/setEnergy {energy} MeV\n",
    "        /gate/source/PBS/setSigmaEnergy {sigma_energy} MeV\n",
    "        /gate/source/PBS/setPosition {position['x']} {position['y']} {position['z']} mm\n",
    "        /gate/source/PBS/setSigmaX 2 mm\n",
    "        /gate/source/PBS/setSigmaY 2 mm\n",
    "        /gate/source/PBS/setSigmaTheta 3 mrad\n",
    "        /gate/source/PBS/setSigmaPhi 3 mrad\n",
    "        /gate/source/PBS/setEllipseXThetaEmittance 15 mm*mrad\n",
    "        #/gate/source/PBS/setEllipseXThetaRotationNorm negative\n",
    "        /gate/source/PBS/setEllipseYPhiEmittance 15 mm*mrad\n",
    "        /gate/source/PBS/setEllipseYPhiRotationNorm negative\n",
    "        /gate/source/PBS/setRotationAxis 1 0 0\n",
    "        /gate/source/PBS/setRotationAngle 90 deg\n",
    "        #/gate/application/setTotalNumberOfPrimaries 10000\n",
    "        '''\n",
    "        macro_name = f\"beam{energy}.mac\"\n",
    "        self.macro_dict['beam'] = macro_name\n",
    "        with open(f'{self.macro}/{macro_name}', 'w') as f:\n",
    "            f.write(lines)\n",
    "            \n",
    "    def create_start_beams(self, n_primaries=10000):\n",
    "        lines = f\"\"\"\n",
    "        #=====================================================\n",
    "        # START BEAMS\n",
    "        #=====================================================\n",
    "\n",
    "        # JamesRandom Ranlux64 MersenneTwister\n",
    "        /gate/random/setEngineName MersenneTwister\n",
    "        /gate/random/setEngineSeed 123456\n",
    "\n",
    "        # /gate/random/verbose 1\n",
    "        # /gate/source/verbose 0\n",
    "\n",
    "        # to check Steplimiter\n",
    "        #/tracking/verbose 1\n",
    "\n",
    "        #/gate/application/noGlobalOutput\n",
    "        /gate/application/setTotalNumberOfPrimaries {n_primaries}\n",
    "        \"\"\"\n",
    "        macro_name = f'start_beam{n_primaries}.mac'\n",
    "        self.macro_dict['start_beam'] = macro_name\n",
    "        with open(f'{self.macro}/{macro_name}', 'w') as f:\n",
    "            f.write(lines)\n",
    "            \n",
    "    def create_output(self):\n",
    "        results_path = path.join(self.results, f'TrackerHits{self.timestamp}')\n",
    "        self.results_files['hits'].append(results_path + '.root')\n",
    "        out = f\"\"\"\n",
    "        /gate/output/root/enable\n",
    "        /gate/output/root/setFileName {results_path}\n",
    "        /gate/output/root/setRootHitFlag            1\n",
    "        /gate/output/root/setRootSinglesFlag        0\n",
    "        #/gate/output/root/setRootCoincidencesFlag   0\n",
    "        /gate/output/root/setRootNtupleFlag         0\n",
    "        /gate/output/root/setRootOpticalFlag        0\n",
    "        \"\"\"    \n",
    "        return out\n",
    "    \n",
    "            \n",
    "    def create_macro_file(self):\n",
    "        \"\"\"creates the main macro file\n",
    "        \n",
    "        output: name the macro file, a dictionary containing the list of root file\n",
    "                                    dictionary keys are 'trackers', 'hits', 'dose'\n",
    "        \"\"\"\n",
    "        \n",
    "        self.create_geometry()\n",
    "        self.create_physics()\n",
    "        self.create_actors()\n",
    "        self.create_geometry()\n",
    "        self.create_initialization()\n",
    "        if not self.beam_created:\n",
    "            self.create_beam()\n",
    "        self.create_start_beams()\n",
    "        \n",
    "        lines = f\"\"\"\n",
    "        #=====================================================\n",
    "        # GEOMETRY\n",
    "        #=====================================================\n",
    "        /control/execute {self.macro}/{self.macro_dict[\"geometry\"]}    \n",
    "        #=====================================================\n",
    "        # PHYSICS\n",
    "        #=====================================================\n",
    "        /control/execute {self.macro}/{self.macro_dict[\"physics\"]}\n",
    "        #================================================================\n",
    "        #     ACTORS\n",
    "        #================================================================\n",
    "        /control/execute {self.macro}/{self.macro_dict[\"actors\"]}\n",
    "        #=====================================================\n",
    "        # INITIALISATION\n",
    "        #=====================================================\n",
    "        /control/execute {self.macro}/{self.macro_dict[\"intialisation\"]}\n",
    "        #=====================================================\n",
    "        # BEAMS\n",
    "        #=====================================================\n",
    "        /control/execute {self.macro}/{self.macro_dict[\"beam\"]}\n",
    "        #=====================================================\n",
    "        # START BEAMS\n",
    "        #=====================================================\n",
    "        /control/execute {self.macro}/{self.macro_dict[\"start_beam\"]}\n",
    "        #===============================================\n",
    "        # OUTPUT SETTINGS\n",
    "        #===============================================\n",
    "        {self.create_output()}\n",
    "        /gate/application/start\n",
    "        exit\n",
    "        \"\"\"\n",
    "        \n",
    "        macro_name = f'{self.macro}/main_macro{self.timestamp}.mac'\n",
    "        with open(macro_name, 'w') as f:\n",
    "            f.write(lines)\n",
    "            \n",
    "        return macro_name, self.results_files, self.timestamp"
   ]
  },
  {
   "cell_type": "code",
   "execution_count": null,
   "metadata": {},
   "outputs": [
    {
     "data": {
      "text/markdown": [
       "<h2 id=\"MacroWriter\" class=\"doc_header\"><code>class</code> <code>MacroWriter</code><a href=\"\" class=\"source_link\" style=\"float:right\">[source]</a></h2>\n",
       "\n",
       "> <code>MacroWriter</code>(**`macro_folder`**=*`'../mac'`*, **`results_folder`**=*`'../results'`*, **`logs_folder`**=*`'../logs'`*, **`system_thickness`**=*`1`*, **`system_y_loc`**=*`0`*, **`sensor_material`**=*`'Silicon'`*, **`physics_list`**=*`'QGSP_BERT_EMV'`*)\n",
       "\n",
       "Main class for creating a macro file to be run by `gate`\n",
       "    \n",
       "    "
      ],
      "text/plain": [
       "<IPython.core.display.Markdown object>"
      ]
     },
     "metadata": {},
     "output_type": "display_data"
    }
   ],
   "source": [
    "show_doc(MacroWriter)"
   ]
  },
  {
   "cell_type": "code",
   "execution_count": null,
   "metadata": {},
   "outputs": [
    {
     "data": {
      "text/markdown": [
       "<h4 id=\"MacroWriter.create_actors\" class=\"doc_header\"><code>MacroWriter.create_actors</code><a href=\"__main__.py#L197\" class=\"source_link\" style=\"float:right\">[source]</a></h4>\n",
       "\n",
       "> <code>MacroWriter.create_actors</code>()\n",
       "\n"
      ],
      "text/plain": [
       "<IPython.core.display.Markdown object>"
      ]
     },
     "metadata": {},
     "output_type": "display_data"
    }
   ],
   "source": [
    "show_doc(MacroWriter.create_actors)"
   ]
  },
  {
   "cell_type": "code",
   "execution_count": null,
   "metadata": {},
   "outputs": [
    {
     "data": {
      "text/markdown": [
       "<h4 id=\"MacroWriter.create_sensor\" class=\"doc_header\"><code>MacroWriter.create_sensor</code><a href=\"__main__.py#L28\" class=\"source_link\" style=\"float:right\">[source]</a></h4>\n",
       "\n",
       "> <code>MacroWriter.create_sensor</code>(**`n`**=*`0`*, **`x_length`**=*`20`*, **`z_length`**=*`20`*, **`thickness`**=*`0.1`*, **`x_loc`**=*`0`*, **`y_loc`**=*`0`*, **`z_loc`**=*`0`*, **`system`**=*`'scanner'`*)\n",
       "\n",
       "Compose a GATE macro for creating a sensor\n",
       "\n",
       "In the current implementation snesor is a flat plane perpendicular to the beam \n",
       "which is by default in y direction\n",
       "thickness dimension is in mm\n",
       "all other dimensions are in cm"
      ],
      "text/plain": [
       "<IPython.core.display.Markdown object>"
      ]
     },
     "metadata": {},
     "output_type": "display_data"
    }
   ],
   "source": [
    "show_doc(MacroWriter.create_sensor)"
   ]
  },
  {
   "cell_type": "code",
   "execution_count": null,
   "metadata": {},
   "outputs": [
    {
     "data": {
      "text/markdown": [
       "<h4 id=\"MacroWriter.create_macro_file\" class=\"doc_header\"><code>MacroWriter.create_macro_file</code><a href=\"__main__.py#L289\" class=\"source_link\" style=\"float:right\">[source]</a></h4>\n",
       "\n",
       "> <code>MacroWriter.create_macro_file</code>()\n",
       "\n",
       "creates the main macro file\n",
       "\n",
       "output: name the macro file, a dictionary containing the list of root file\n",
       "                            dictionary keys are 'trackers', 'hits', 'dose'"
      ],
      "text/plain": [
       "<IPython.core.display.Markdown object>"
      ]
     },
     "metadata": {},
     "output_type": "display_data"
    }
   ],
   "source": [
    "show_doc(MacroWriter.create_macro_file)"
   ]
  },
  {
   "cell_type": "code",
   "execution_count": null,
   "metadata": {},
   "outputs": [
    {
     "data": {
      "text/markdown": [
       "<h4 id=\"MacroWriter.create_beam\" class=\"doc_header\"><code>MacroWriter.create_beam</code><a href=\"__main__.py#L222\" class=\"source_link\" style=\"float:right\">[source]</a></h4>\n",
       "\n",
       "> <code>MacroWriter.create_beam</code>(**`energy`**=*`250`*, **`sigma_energy`**=*`1.0`*, **`position`**=*`{'x': 0, 'y': 250, 'z': 0}`*)\n",
       "\n"
      ],
      "text/plain": [
       "<IPython.core.display.Markdown object>"
      ]
     },
     "metadata": {},
     "output_type": "display_data"
    }
   ],
   "source": [
    "show_doc(MacroWriter.create_beam)"
   ]
  },
  {
   "cell_type": "markdown",
   "metadata": {},
   "source": [
    "## Function that creates the full system"
   ]
  },
  {
   "cell_type": "code",
   "execution_count": null,
   "metadata": {},
   "outputs": [],
   "source": [
    "#export\n",
    "def create_all(n_phantom_layers = 21, phantom_layer_thickness = [1]*21, phantom_material = 'Water', beam_energy = 250,\n",
    "               distance_to_system = 1, system_thickness = 1, n_sensors = 1, sensor_pitch = 0.5, sensor_thickness=0.5):\n",
    "    \"\"\"sets parameters for phantom and system geometries\"\"\"\n",
    "    phantom_thickness = sum(phantom_layer_thickness)\n",
    "    system_thickness = (sensor_thickness + sensor_pitch) * n_sensors\n",
    "    # initialize an instance of MacroWriter\n",
    "    my_macro = MacroWriter(system_y_loc=(-1)*phantom_thickness - distance_to_system, \n",
    "                           system_thickness=system_thickness)\n",
    "    # create phantom layers\n",
    "    y_loc = 10\n",
    "    for layer in range(n_phantom_layers):\n",
    "        phantom_material = 'Water'\n",
    "        # the parameters of the particles are recorded at the exit from the layer\n",
    "        # the Air layer is added to get parameters at the entrance to the real phantom layer\n",
    "        if layer == 0:\n",
    "            phantom_material = 'Air'\n",
    "        # set material to Skull for the first and the last layer    \n",
    "        elif layer == 1 or layer == n_phantom_layers - 1: \n",
    "            phantom_material = 'Skull'\n",
    "        # layers start from 10 and extend in the negative y direction\n",
    "        y_loc -= phantom_layer_thickness[layer]\n",
    "        my_macro.create_phantom_layer(n=layer, thickness=phantom_layer_thickness[layer], y_loc=y_loc,\n",
    "                                     material=phantom_material)\n",
    "    for i_sensor in range(n_sensors):\n",
    "        my_macro.create_sensor(n=i_sensor, y_loc= -(sensor_pitch + sensor_thickness) * i_sensor, \n",
    "                               thickness=sensor_thickness)\n",
    "    my_macro.create_beam(energy=beam_energy)\n",
    "    return my_macro.create_macro_file()"
   ]
  },
  {
   "cell_type": "code",
   "execution_count": null,
   "metadata": {},
   "outputs": [
    {
     "data": {
      "text/markdown": [
       "<h4 id=\"create_all\" class=\"doc_header\"><code>create_all</code><a href=\"__main__.py#L2\" class=\"source_link\" style=\"float:right\">[source]</a></h4>\n",
       "\n",
       "> <code>create_all</code>(**`n_phantom_layers`**=*`21`*, **`phantom_layer_thickness`**=*`[1, 1, 1, 1, 1, 1, 1, 1, 1, 1, 1, 1, 1, 1, 1, 1, 1, 1, 1, 1, 1]`*, **`phantom_material`**=*`'Water'`*, **`beam_energy`**=*`250`*, **`distance_to_system`**=*`1`*, **`system_thickness`**=*`1`*, **`n_sensors`**=*`1`*, **`sensor_pitch`**=*`0.5`*, **`sensor_thickness`**=*`0.5`*)\n",
       "\n",
       "sets parameters for phantom and system geometries"
      ],
      "text/plain": [
       "<IPython.core.display.Markdown object>"
      ]
     },
     "metadata": {},
     "output_type": "display_data"
    }
   ],
   "source": [
    "show_doc(create_all)"
   ]
  },
  {
   "cell_type": "markdown",
   "metadata": {},
   "source": [
    "## Function to run the created macro"
   ]
  },
  {
   "cell_type": "code",
   "execution_count": null,
   "metadata": {},
   "outputs": [],
   "source": [
    "#export\n",
    "def run_macro(macroname, log_folder='../logs'):\n",
    "    \"\"\"runs macro file the log file is time stamped\"\"\"\n",
    "    log_file_name = f'gate_stdout_err_{strftime(\"%Y%b%d_%H%M%S\")}.log'\n",
    "    log_path = path.join(log_folder, log_file_name)\n",
    "    with open(log_path,'a+') as f_stdout:\n",
    "        subprocess.run(['Gate', macroname], stdout=f_stdout, stderr=subprocess.STDOUT)\n",
    "    "
   ]
  },
  {
   "cell_type": "code",
   "execution_count": null,
   "metadata": {},
   "outputs": [
    {
     "data": {
      "text/markdown": [
       "<h4 id=\"run_macro\" class=\"doc_header\"><code>run_macro</code><a href=\"__main__.py#L2\" class=\"source_link\" style=\"float:right\">[source]</a></h4>\n",
       "\n",
       "> <code>run_macro</code>(**`macroname`**, **`log_folder`**=*`'../logs'`*)\n",
       "\n",
       "runs macro file the log file is time stamped"
      ],
      "text/plain": [
       "<IPython.core.display.Markdown object>"
      ]
     },
     "metadata": {},
     "output_type": "display_data"
    }
   ],
   "source": [
    "show_doc(run_macro)"
   ]
  },
  {
   "cell_type": "markdown",
   "metadata": {},
   "source": [
    "## A small function to recalculate the momentum into kinetic energy"
   ]
  },
  {
   "cell_type": "code",
   "execution_count": null,
   "metadata": {},
   "outputs": [],
   "source": [
    "#export\n",
    "import math\n",
    "def Ek(mass, momentum):\n",
    "    '''Helpfull function that converts momentum to kinetic energy'''\n",
    "    return math.sqrt(mass**2 + momentum**2) - mass"
   ]
  },
  {
   "cell_type": "code",
   "execution_count": null,
   "metadata": {},
   "outputs": [
    {
     "data": {
      "text/markdown": [
       "<h4 id=\"Ek\" class=\"doc_header\"><code>Ek</code><a href=\"__main__.py#L3\" class=\"source_link\" style=\"float:right\">[source]</a></h4>\n",
       "\n",
       "> <code>Ek</code>(**`mass`**, **`momentum`**)\n",
       "\n",
       "Helpfull function that converts momentum to kinetic energy"
      ],
      "text/plain": [
       "<IPython.core.display.Markdown object>"
      ]
     },
     "metadata": {},
     "output_type": "display_data"
    }
   ],
   "source": [
    "show_doc(Ek)"
   ]
  },
  {
   "cell_type": "markdown",
   "metadata": {},
   "source": [
    "## Example that creates and runs macro for the full system"
   ]
  },
  {
   "cell_type": "code",
   "execution_count": null,
   "metadata": {},
   "outputs": [],
   "source": [
    "main_macro, output_root, timestamp = create_all(beam_energy=100, n_sensors=3) \n",
    "run_macro(main_macro)\n",
    "root_hits_file = output_root['hits'][0]\n",
    "root_dose_file = output_root['dose'][1]\n",
    "root_tracker_file = output_root['trackers'][1]\n",
    "\n",
    "hits_df = get_df_subentry2(root_hits_file)\n",
    "track_df = get_phasespace_df(timestamp, 1)"
   ]
  },
  {
   "cell_type": "code",
   "execution_count": null,
   "metadata": {},
   "outputs": [
    {
     "data": {
      "image/png": "[encoded data removed]",
      "text/plain": [
       "<Figure size 432x288 with 1 Axes>"
      ]
     },
     "metadata": {
      "needs_background": "light"
     },
     "output_type": "display_data"
    }
   ],
   "source": [
    "from scipy.stats import norm\n",
    "import matplotlib.pyplot as plt\n",
    "import numpy as np\n",
    "Ekine_1 = track_df[(track_df.ParticleName == 'proton') & (track_df.CreatorProcess == 0) & (track_df.Ekine > 80)]['Ekine']\n",
    "mu, std = norm.fit(Ekine_1)\n",
    "plt.hist(Ekine_1, bins=25, density=True, alpha=0.6, color='g', range=(80, 100))\n",
    "# Plot the PDF.\n",
    "x = np.linspace(80, 100, 100)\n",
    "p = norm.pdf(x, mu, std)\n",
    "plt.plot(x, p, 'k', linewidth=2)\n",
    "title = \"Fit results: mu = %.2f,  std = %.2f\" % (mu, std)\n",
    "plt.title(title)\n",
    "\n",
    "plt.show()"
   ]
  },
  {
   "cell_type": "code",
   "execution_count": null,
   "metadata": {},
   "outputs": [
    {
     "data": {
      "text/plain": [
       "[<matplotlib.lines.Line2D at 0x7fe3d0fe2130>]"
      ]
     },
     "execution_count": null,
     "metadata": {},
     "output_type": "execute_result"
    },
    {
     "data": {
      "image/png": "[encoded data removed]",
      "text/plain": [
       "<Figure size 432x288 with 1 Axes>"
      ]
     },
     "metadata": {
      "needs_background": "light"
     },
     "output_type": "display_data"
    }
   ],
   "source": [
    "d = extract_dose('2021May12_164703')\n",
    "x = np.arange(len(d))\n",
    "plt.plot(x, d, 'o')"
   ]
  },
  {
   "cell_type": "markdown",
   "metadata": {},
   "source": [
    "## Export notebooks"
   ]
  },
  {
   "cell_type": "code",
   "execution_count": null,
   "metadata": {},
   "outputs": [
    {
     "name": "stdout",
     "output_type": "stream",
     "text": [
      "Converted 00_macrotools.ipynb.\n",
      "Converted 01_analysis.ipynb.\n",
      "Converted 02_scanners.ipynb.\n",
      "Converted 20_analysis0.ipynb.\n",
      "Converted 21_analysis1.ipynb.\n",
      "Converted index.ipynb.\n"
     ]
    }
   ],
   "source": [
    "#hide\n",
    "from nbdev.export import notebook2script; notebook2script()"
   ]
  },
  {
   "cell_type": "code",
   "execution_count": null,
   "metadata": {},
   "outputs": [],
   "source": []
  }
 ],
 "metadata": {
  "kernelspec": {
   "display_name": "Python 3",
   "language": "python",
   "name": "python3"
  }
 },
 "nbformat": 4,
 "nbformat_minor": 2
}
