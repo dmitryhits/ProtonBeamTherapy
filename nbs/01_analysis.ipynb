{
 "cells": [
  {
   "cell_type": "code",
   "execution_count": null,
   "id": "basic-christian",
   "metadata": {},
   "outputs": [],
   "source": [
    "# default_exp analysis"
   ]
  },
  {
   "cell_type": "markdown",
   "id": "revised-individual",
   "metadata": {},
   "source": [
    "# Tools to analyze the results of Gate simulations"
   ]
  },
  {
   "cell_type": "code",
   "execution_count": null,
   "id": "civil-andrew",
   "metadata": {},
   "outputs": [],
   "source": [
    "#hide\n",
    "from nbdev.showdoc import *"
   ]
  },
  {
   "cell_type": "markdown",
   "id": "judicial-wichita",
   "metadata": {},
   "source": [
    "## Dependencies"
   ]
  },
  {
   "cell_type": "code",
   "execution_count": null,
   "id": "controlled-method",
   "metadata": {},
   "outputs": [],
   "source": [
    "#export\n",
    "import pandas as pd\n",
    "import uproot as rt\n",
    "import awkward as ak\n",
    "\n",
    "from scipy.stats import moyal\n",
    "import matplotlib.pyplot as plt\n",
    "import numpy as np\n",
    "import math\n",
    "from scipy import stats\n",
    "from scipy.stats import rv_continuous\n",
    "# import pylandau\n",
    "from matplotlib.pyplot import hist2d\n",
    "import matplotlib.colors as mcolors"
   ]
  },
  {
   "cell_type": "code",
   "execution_count": null,
   "id": "central-experiment",
   "metadata": {},
   "outputs": [],
   "source": [
    "#export\n",
    "def find_max_nonzero(array_hist):\n",
    "    \"\"\"returns an upper boundary of the continuos non-zero bins\n",
    "    \n",
    "    input a histogram array output from plt.hist\n",
    "    \"\"\"\n",
    "    previous = -1\n",
    "    preprevious  = -1\n",
    "    p_b = -1\n",
    "    pp_b = -1\n",
    "    for v, b in zip(array_hist[0],array_hist[1]):\n",
    "        if preprevious != 0 and previous == 0 and v == 0:\n",
    "            return math.ceil(p_b)\n",
    "        pp_b = p_b\n",
    "        p_b = b\n",
    "        preprevious = previous\n",
    "        previous = v\n",
    "    "
   ]
  },
  {
   "cell_type": "code",
   "execution_count": null,
   "id": "expected-exemption",
   "metadata": {},
   "outputs": [
    {
     "data": {
      "text/markdown": [
       "<h4 id=\"find_max_nonzero\" class=\"doc_header\"><code>find_max_nonzero</code><a href=\"__main__.py#L2\" class=\"source_link\" style=\"float:right\">[source]</a></h4>\n",
       "\n",
       "> <code>find_max_nonzero</code>(**`array_hist`**)\n",
       "\n",
       "returns an upper boundary of the continuos non-zero bins\n",
       "\n",
       "input a histogram array output from plt.hist"
      ],
      "text/plain": [
       "<IPython.core.display.Markdown object>"
      ]
     },
     "metadata": {},
     "output_type": "display_data"
    }
   ],
   "source": [
    "show_doc(find_max_nonzero)"
   ]
  },
  {
   "cell_type": "code",
   "execution_count": null,
   "id": "revolutionary-words",
   "metadata": {},
   "outputs": [],
   "source": [
    "#export\n",
    "def find_range(param):\n",
    "    \"\"\"removes a tail in the upper range of the histogram\"\"\"\n",
    "    array_hist = plt.hist(param, bins=100)\n",
    "    upper_limit = find_max_nonzero(array_hist)\n",
    "    ret = -1\n",
    "    for _ in range(10):\n",
    "        print(f'upper limit: {upper_limit}')\n",
    "        ret = upper_limit\n",
    "        array_hist = plt.hist(param[param < upper_limit], bins=100)\n",
    "        upper_limit = find_max_nonzero(array_hist)\n",
    "        if ret == upper_limit:\n",
    "            break\n",
    "    return ret"
   ]
  },
  {
   "cell_type": "code",
   "execution_count": null,
   "id": "allied-voice",
   "metadata": {},
   "outputs": [
    {
     "data": {
      "text/markdown": [
       "<h4 id=\"find_range\" class=\"doc_header\"><code>find_range</code><a href=\"__main__.py#L2\" class=\"source_link\" style=\"float:right\">[source]</a></h4>\n",
       "\n",
       "> <code>find_range</code>(**`param`**)\n",
       "\n",
       "removes a tail in the upper range of the histogram"
      ],
      "text/plain": [
       "<IPython.core.display.Markdown object>"
      ]
     },
     "metadata": {},
     "output_type": "display_data"
    }
   ],
   "source": [
    "show_doc(find_range)"
   ]
  },
  {
   "cell_type": "code",
   "execution_count": null,
   "id": "inner-genius",
   "metadata": {},
   "outputs": [],
   "source": [
    "#export\n",
    "def get_edep_data(df, sensor=-1):\n",
    "    \"\"\"returns an array of energies deposited in each event (keV)\"\"\"\n",
    "    \n",
    "   \n",
    "    \n",
    "    # sum all energy deposited in each event and convert the result to keV\n",
    "    if sensor == -1:\n",
    "        edep = df.groupby(['eventID'])['edep'].sum()*1000\n",
    "    else:\n",
    "        edep = (df[df['volumeID'] == sensor].groupby(['eventID']))['edep'].sum()*1000\n",
    "    return edep"
   ]
  },
  {
   "cell_type": "code",
   "execution_count": null,
   "id": "dying-meditation",
   "metadata": {},
   "outputs": [
    {
     "data": {
      "text/markdown": [
       "<h4 id=\"get_edep_data\" class=\"doc_header\"><code>get_edep_data</code><a href=\"__main__.py#L2\" class=\"source_link\" style=\"float:right\">[source]</a></h4>\n",
       "\n",
       "> <code>get_edep_data</code>(**`df`**, **`sensor`**=*`-1`*)\n",
       "\n",
       "returns an array of energies deposited in each event (keV)"
      ],
      "text/plain": [
       "<IPython.core.display.Markdown object>"
      ]
     },
     "metadata": {},
     "output_type": "display_data"
    }
   ],
   "source": [
    "show_doc(get_edep_data)"
   ]
  },
  {
   "cell_type": "code",
   "execution_count": null,
   "id": "agreed-forest",
   "metadata": {},
   "outputs": [],
   "source": [
    "#export\n",
    "def get_df_subentry2(root_file_name):\n",
    "    \"\"\"returns a dataframe that contains only subentry 2 data\n",
    "    \n",
    "    This subentry seems to contain all the relevant information\"\"\"\n",
    "    \n",
    "    df = pd.DataFrame()\n",
    "    with rt.open(f'{root_file_name}:Hits') as tree:\n",
    "        df = ak.to_pandas(tree.arrays())\n",
    "    return df.xs(2, level='subentry')"
   ]
  },
  {
   "cell_type": "code",
   "execution_count": null,
   "id": "professional-pennsylvania",
   "metadata": {},
   "outputs": [
    {
     "data": {
      "text/markdown": [
       "<h4 id=\"get_df_subentry2\" class=\"doc_header\"><code>get_df_subentry2</code><a href=\"__main__.py#L2\" class=\"source_link\" style=\"float:right\">[source]</a></h4>\n",
       "\n",
       "> <code>get_df_subentry2</code>(**`root_file_name`**)\n",
       "\n",
       "returns a dataframe that contains only subentry 2 data\n",
       "\n",
       "This subentry seems to contain all the relevant information"
      ],
      "text/plain": [
       "<IPython.core.display.Markdown object>"
      ]
     },
     "metadata": {},
     "output_type": "display_data"
    }
   ],
   "source": [
    "show_doc(get_df_subentry2)"
   ]
  },
  {
   "cell_type": "markdown",
   "id": "engaged-senator",
   "metadata": {},
   "source": [
    "## Example showing energy deposition with 3 sensors"
   ]
  },
  {
   "cell_type": "code",
   "execution_count": null,
   "id": "reasonable-biology",
   "metadata": {},
   "outputs": [
    {
     "data": {
      "image/png": "[encoded data removed]",
      "text/plain": [
       "<Figure size 432x288 with 1 Axes>"
      ]
     },
     "metadata": {
      "needs_background": "light"
     },
     "output_type": "display_data"
    }
   ],
   "source": [
    "df2 = get_df_subentry2('results/TrackerHits.root')\n",
    "edep = get_edep_data(df2, sensor=0)\n",
    "_ = plt.hist(edep, bins=100, range=(0,1000))\n",
    "_ = plt.hist(get_edep_data(df2, sensor=1), bins=100, range=(0,1000))\n",
    "_ = plt.hist(get_edep_data(df2, sensor=2), bins=100, range=(0,1000))"
   ]
  },
  {
   "cell_type": "code",
   "execution_count": null,
   "id": "christian-senator",
   "metadata": {},
   "outputs": [],
   "source": [
    "null_columns = [col for col in df2.columns if df2[col].max() == 0 and df2[col].min() == 0]\n",
    "df2.drop(columns=null_columns, inplace=True)"
   ]
  },
  {
   "cell_type": "code",
   "execution_count": null,
   "id": "general-perspective",
   "metadata": {},
   "outputs": [
    {
     "data": {
      "text/html": [
       "<div>\n",
       "<style scoped>\n",
       "    .dataframe tbody tr th:only-of-type {\n",
       "        vertical-align: middle;\n",
       "    }\n",
       "\n",
       "    .dataframe tbody tr th {\n",
       "        vertical-align: top;\n",
       "    }\n",
       "\n",
       "    .dataframe thead th {\n",
       "        text-align: right;\n",
       "    }\n",
       "</style>\n",
       "<table border=\"1\" class=\"dataframe\">\n",
       "  <thead>\n",
       "    <tr style=\"text-align: right;\">\n",
       "      <th></th>\n",
       "      <th>PDGEncoding</th>\n",
       "      <th>trackID</th>\n",
       "      <th>parentID</th>\n",
       "      <th>trackLocalTime</th>\n",
       "      <th>time</th>\n",
       "      <th>edep</th>\n",
       "      <th>stepLength</th>\n",
       "      <th>trackLength</th>\n",
       "      <th>posX</th>\n",
       "      <th>posY</th>\n",
       "      <th>...</th>\n",
       "      <th>momDirX</th>\n",
       "      <th>momDirY</th>\n",
       "      <th>momDirZ</th>\n",
       "      <th>level1ID</th>\n",
       "      <th>photonID</th>\n",
       "      <th>sourcePosX</th>\n",
       "      <th>sourcePosZ</th>\n",
       "      <th>eventID</th>\n",
       "      <th>volumeID</th>\n",
       "      <th>processName</th>\n",
       "    </tr>\n",
       "    <tr>\n",
       "      <th>entry</th>\n",
       "      <th></th>\n",
       "      <th></th>\n",
       "      <th></th>\n",
       "      <th></th>\n",
       "      <th></th>\n",
       "      <th></th>\n",
       "      <th></th>\n",
       "      <th></th>\n",
       "      <th></th>\n",
       "      <th></th>\n",
       "      <th></th>\n",
       "      <th></th>\n",
       "      <th></th>\n",
       "      <th></th>\n",
       "      <th></th>\n",
       "      <th></th>\n",
       "      <th></th>\n",
       "      <th></th>\n",
       "      <th></th>\n",
       "      <th></th>\n",
       "      <th></th>\n",
       "    </tr>\n",
       "  </thead>\n",
       "  <tbody>\n",
       "    <tr>\n",
       "      <th>0</th>\n",
       "      <td>2212</td>\n",
       "      <td>1</td>\n",
       "      <td>0</td>\n",
       "      <td>1.625228e-09</td>\n",
       "      <td>1.625228e-09</td>\n",
       "      <td>0.394049</td>\n",
       "      <td>0.500008</td>\n",
       "      <td>297.753906</td>\n",
       "      <td>-0.089870</td>\n",
       "      <td>-47.75</td>\n",
       "      <td>...</td>\n",
       "      <td>-0.022373</td>\n",
       "      <td>-0.999483</td>\n",
       "      <td>0.023074</td>\n",
       "      <td>0</td>\n",
       "      <td>2</td>\n",
       "      <td>-0.391837</td>\n",
       "      <td>0.482372</td>\n",
       "      <td>1</td>\n",
       "      <td>0</td>\n",
       "      <td>Transportation</td>\n",
       "    </tr>\n",
       "    <tr>\n",
       "      <th>1</th>\n",
       "      <td>2212</td>\n",
       "      <td>1</td>\n",
       "      <td>0</td>\n",
       "      <td>1.681641e-09</td>\n",
       "      <td>1.681641e-09</td>\n",
       "      <td>0.435780</td>\n",
       "      <td>0.500258</td>\n",
       "      <td>307.759064</td>\n",
       "      <td>-0.313312</td>\n",
       "      <td>-57.75</td>\n",
       "      <td>...</td>\n",
       "      <td>-0.025283</td>\n",
       "      <td>-0.999469</td>\n",
       "      <td>0.020532</td>\n",
       "      <td>-1</td>\n",
       "      <td>2</td>\n",
       "      <td>-0.391837</td>\n",
       "      <td>0.482372</td>\n",
       "      <td>1</td>\n",
       "      <td>1</td>\n",
       "      <td>Transportation</td>\n",
       "    </tr>\n",
       "    <tr>\n",
       "      <th>2</th>\n",
       "      <td>2212</td>\n",
       "      <td>1</td>\n",
       "      <td>0</td>\n",
       "      <td>1.738094e-09</td>\n",
       "      <td>1.738094e-09</td>\n",
       "      <td>0.393910</td>\n",
       "      <td>0.500265</td>\n",
       "      <td>317.764343</td>\n",
       "      <td>-0.565760</td>\n",
       "      <td>-67.75</td>\n",
       "      <td>...</td>\n",
       "      <td>-0.023668</td>\n",
       "      <td>-0.999491</td>\n",
       "      <td>0.021390</td>\n",
       "      <td>-1</td>\n",
       "      <td>2</td>\n",
       "      <td>-0.391837</td>\n",
       "      <td>0.482372</td>\n",
       "      <td>1</td>\n",
       "      <td>2</td>\n",
       "      <td>Transportation</td>\n",
       "    </tr>\n",
       "    <tr>\n",
       "      <th>3</th>\n",
       "      <td>2212</td>\n",
       "      <td>1</td>\n",
       "      <td>0</td>\n",
       "      <td>1.621733e-09</td>\n",
       "      <td>1.621733e-09</td>\n",
       "      <td>0.352901</td>\n",
       "      <td>0.500019</td>\n",
       "      <td>297.757568</td>\n",
       "      <td>-0.656078</td>\n",
       "      <td>-47.75</td>\n",
       "      <td>...</td>\n",
       "      <td>-0.002678</td>\n",
       "      <td>-0.999953</td>\n",
       "      <td>-0.009338</td>\n",
       "      <td>0</td>\n",
       "      <td>0</td>\n",
       "      <td>-1.324143</td>\n",
       "      <td>-3.748219</td>\n",
       "      <td>2</td>\n",
       "      <td>0</td>\n",
       "      <td>Transportation</td>\n",
       "    </tr>\n",
       "    <tr>\n",
       "      <th>4</th>\n",
       "      <td>2212</td>\n",
       "      <td>1</td>\n",
       "      <td>0</td>\n",
       "      <td>1.677973e-09</td>\n",
       "      <td>1.677973e-09</td>\n",
       "      <td>0.336591</td>\n",
       "      <td>0.500025</td>\n",
       "      <td>307.758057</td>\n",
       "      <td>-0.683030</td>\n",
       "      <td>-57.75</td>\n",
       "      <td>...</td>\n",
       "      <td>-0.000312</td>\n",
       "      <td>-0.999964</td>\n",
       "      <td>-0.008490</td>\n",
       "      <td>-1</td>\n",
       "      <td>0</td>\n",
       "      <td>-1.324143</td>\n",
       "      <td>-3.748219</td>\n",
       "      <td>2</td>\n",
       "      <td>1</td>\n",
       "      <td>Transportation</td>\n",
       "    </tr>\n",
       "  </tbody>\n",
       "</table>\n",
       "<p>5 rows × 24 columns</p>\n",
       "</div>"
      ],
      "text/plain": [
       "       PDGEncoding  trackID  parentID  trackLocalTime          time      edep  \\\n",
       "entry                                                                           \n",
       "0             2212        1         0    1.625228e-09  1.625228e-09  0.394049   \n",
       "1             2212        1         0    1.681641e-09  1.681641e-09  0.435780   \n",
       "2             2212        1         0    1.738094e-09  1.738094e-09  0.393910   \n",
       "3             2212        1         0    1.621733e-09  1.621733e-09  0.352901   \n",
       "4             2212        1         0    1.677973e-09  1.677973e-09  0.336591   \n",
       "\n",
       "       stepLength  trackLength      posX   posY  ...   momDirX   momDirY  \\\n",
       "entry                                            ...                       \n",
       "0        0.500008   297.753906 -0.089870 -47.75  ... -0.022373 -0.999483   \n",
       "1        0.500258   307.759064 -0.313312 -57.75  ... -0.025283 -0.999469   \n",
       "2        0.500265   317.764343 -0.565760 -67.75  ... -0.023668 -0.999491   \n",
       "3        0.500019   297.757568 -0.656078 -47.75  ... -0.002678 -0.999953   \n",
       "4        0.500025   307.758057 -0.683030 -57.75  ... -0.000312 -0.999964   \n",
       "\n",
       "        momDirZ  level1ID  photonID  sourcePosX  sourcePosZ  eventID  \\\n",
       "entry                                                                  \n",
       "0      0.023074         0         2   -0.391837    0.482372        1   \n",
       "1      0.020532        -1         2   -0.391837    0.482372        1   \n",
       "2      0.021390        -1         2   -0.391837    0.482372        1   \n",
       "3     -0.009338         0         0   -1.324143   -3.748219        2   \n",
       "4     -0.008490        -1         0   -1.324143   -3.748219        2   \n",
       "\n",
       "       volumeID     processName  \n",
       "entry                            \n",
       "0             0  Transportation  \n",
       "1             1  Transportation  \n",
       "2             2  Transportation  \n",
       "3             0  Transportation  \n",
       "4             1  Transportation  \n",
       "\n",
       "[5 rows x 24 columns]"
      ]
     },
     "execution_count": null,
     "metadata": {},
     "output_type": "execute_result"
    }
   ],
   "source": [
    "single_value_columns = [col for col in df2.columns if df2[col].max() ==  df2[col].min()]\n",
    "df2.drop(columns=single_value_columns, inplace=True)\n",
    "df2.head()"
   ]
  },
  {
   "cell_type": "code",
   "execution_count": null,
   "id": "sought-equipment",
   "metadata": {},
   "outputs": [
    {
     "data": {
      "image/png": "[encoded data removed]",
      "text/plain": [
       "<Figure size 432x288 with 1 Axes>"
      ]
     },
     "metadata": {
      "needs_background": "light"
     },
     "output_type": "display_data"
    }
   ],
   "source": [
    "_ = plt.hist2d(df2['posX']-df2['sourcePosX'], df2['posY'], bins=(100, 80), norm=mcolors.LogNorm())"
   ]
  },
  {
   "cell_type": "code",
   "execution_count": null,
   "id": "weird-arizona",
   "metadata": {},
   "outputs": [],
   "source": [
    "df2_sensor0 = df2[df2.volumeID == 0]"
   ]
  },
  {
   "cell_type": "code",
   "execution_count": null,
   "id": "recreational-emerald",
   "metadata": {},
   "outputs": [
    {
     "data": {
      "image/png": "[encoded data removed]",
      "text/plain": [
       "<Figure size 432x288 with 1 Axes>"
      ]
     },
     "metadata": {
      "needs_background": "light"
     },
     "output_type": "display_data"
    }
   ],
   "source": [
    "_= plt.hist((df2_sensor0[(df2_sensor0['processName']=='Transportation') & (df2_sensor0['posY']==-47.25)]).edep,log=True, density=True, bins = 100)\n",
    "_= plt.hist((df2_sensor0[(df2_sensor0['processName']=='Transportation') & (df2_sensor0['posY']==-47.75)]).edep,log=True, density=True,bins = 100)"
   ]
  },
  {
   "cell_type": "code",
   "execution_count": null,
   "id": "fancy-tradition",
   "metadata": {},
   "outputs": [
    {
     "data": {
      "image/png": "[encoded data removed]",
      "text/plain": [
       "<Figure size 432x288 with 1 Axes>"
      ]
     },
     "metadata": {
      "needs_background": "light"
     },
     "output_type": "display_data"
    }
   ],
   "source": [
    "_= hist2d(df2.volumeID, df2.posY, bins=(12,100), norm=mcolors.LogNorm())"
   ]
  },
  {
   "cell_type": "code",
   "execution_count": null,
   "id": "floppy-shape",
   "metadata": {},
   "outputs": [
    {
     "data": {
      "image/png": "[encoded data removed]",
      "text/plain": [
       "<Figure size 432x288 with 1 Axes>"
      ]
     },
     "metadata": {
      "needs_background": "light"
     },
     "output_type": "display_data"
    }
   ],
   "source": [
    "_ = hist2d(df2.trackLength, df2.volumeID, bins=(100, 12), norm=mcolors.LogNorm())"
   ]
  },
  {
   "cell_type": "code",
   "execution_count": null,
   "id": "funded-patent",
   "metadata": {},
   "outputs": [],
   "source": [
    "import pylandau\n",
    "class landau_gen(rv_continuous):\n",
    "    r\"\"\"A Landau continuous random variable.\n",
    "    %(before_notes)s\n",
    "    Notes\n",
    "    -----\n",
    "    The probability density function for `Landau` is:\n",
    "    \n",
    "    for a real number :math:`x`.\n",
    "    %(after_notes)s\n",
    "    This distribution has utility in high-energy physics and radiation\n",
    "    detection. It describes the energy loss of a charged relativistic\n",
    "    particle due to ionization of the medium . \n",
    "    \"\"\"\n",
    "    \n",
    "    def _pdf(self, x):\n",
    "        return pylandau.landau_pdf(np.float64(x))\n",
    "\n",
    "\n",
    "landau = landau_gen(name=\"landau\")"
   ]
  },
  {
   "cell_type": "code",
   "execution_count": null,
   "id": "amino-savings",
   "metadata": {},
   "outputs": [
    {
     "name": "stdout",
     "output_type": "stream",
     "text": [
      "Converted 00_macrotools.ipynb.\n",
      "Converted 01_analysis.ipynb.\n",
      "Converted 02_scanners.ipynb.\n",
      "Converted 20_analysis0.ipynb.\n",
      "Converted index.ipynb.\n"
     ]
    }
   ],
   "source": [
    "#hide\n",
    "from nbdev.export import notebook2script; notebook2script()"
   ]
  },
  {
   "cell_type": "code",
   "execution_count": null,
   "id": "polish-mauritius",
   "metadata": {},
   "outputs": [
    {
     "name": "stdout",
     "output_type": "stream",
     "text": [
      "383.5713661065298 215.44240570369095\n"
     ]
    },
    {
     "name": "stderr",
     "output_type": "stream",
     "text": [
      "/Library/Frameworks/Python.framework/Versions/3.9/lib/python3.9/site-packages/scipy/stats/_distn_infrastructure.py:1797: RuntimeWarning: divide by zero encountered in log\n",
      "  return log(self._pdf(x, *args))\n"
     ]
    }
   ],
   "source": [
    "loc,scale =  moyal.fit(edep)\n",
    "print(loc, scale)"
   ]
  },
  {
   "cell_type": "code",
   "execution_count": null,
   "id": "economic-albuquerque",
   "metadata": {},
   "outputs": [
    {
     "name": "stderr",
     "output_type": "stream",
     "text": [
      "<ipython-input-18-afb1cad1840f>:17: DeprecationWarning: `np.float` is a deprecated alias for the builtin `float`. To silence this warning, use `float` by itself. Doing this will not modify any behavior and is safe. If you specifically wanted the numpy scalar type, use `np.float64` here.\n",
      "Deprecated in NumPy 1.20; for more details and guidance: https://numpy.org/devdocs/release/1.20.0-notes.html#deprecations\n",
      "  return pylandau.landau_pdf(np.float64(x))\n",
      "<ipython-input-18-afb1cad1840f>:17: DeprecationWarning: `np.float` is a deprecated alias for the builtin `float`. To silence this warning, use `float` by itself. Doing this will not modify any behavior and is safe. If you specifically wanted the numpy scalar type, use `np.float64` here.\n",
      "Deprecated in NumPy 1.20; for more details and guidance: https://numpy.org/devdocs/release/1.20.0-notes.html#deprecations\n",
      "  return pylandau.landau_pdf(np.float64(x))\n"
     ]
    },
    {
     "data": {
      "text/plain": [
       "<matplotlib.legend.Legend at 0x7f91daae8be0>"
      ]
     },
     "execution_count": null,
     "metadata": {},
     "output_type": "execute_result"
    },
    {
     "data": {
      "image/png": "[encoded data removed]",
      "text/plain": [
       "<Figure size 504x216 with 1 Axes>"
      ]
     },
     "metadata": {
      "needs_background": "light"
     },
     "output_type": "display_data"
    }
   ],
   "source": [
    "fig1, ax1 = plt.subplots(figsize=(7, 3))\n",
    "x = np.linspace(0, 100, 200)\n",
    "ax1.plot(x, moyal.pdf(x, loc, scale), label = 'Moyal MLE fit')\n",
    "_ = ax1.hist(edep[edep < 100], bins = 100, histtype='step', density= True, label = 'sim data')\n",
    "ax1.plot(x, landau.pdf(x, 23.973851592546183, 2.921658875656049), label='Landau MLE fit')\n",
    "ax1.plot(x, landau.pdf(x, 24.13, 2.629), label='Meine Landau mit deine fit Parametern')\n",
    "#ax1.scatter(GeV8_data.energy, GeV8_data.counts/4400, label = 'data', marker='o',  c = 'green', alpha = 0.5)\n",
    "plt.xlabel('keV')\n",
    "ax1.legend()"
   ]
  },
  {
   "cell_type": "code",
   "execution_count": null,
   "id": "fiscal-above",
   "metadata": {},
   "outputs": [
    {
     "name": "stdout",
     "output_type": "stream",
     "text": [
      "4.607171285784132 3.5588357359363867\n"
     ]
    }
   ],
   "source": [
    "loc,scale =  moyal.fit(edep[edep < 50])\n",
    "print(loc, scale)"
   ]
  },
  {
   "cell_type": "code",
   "execution_count": null,
   "id": "common-secretary",
   "metadata": {},
   "outputs": [
    {
     "name": "stdout",
     "output_type": "stream",
     "text": [
      "Mean:        465.60009765625,       Error on mean: 8.538391660737398, SNR: 54.53018743532778\n",
      "Trimmed mean 400.85728265348166, Error on trimmed mean: 1.1922625847147752, SNR: 336.21560199289377\n"
     ]
    }
   ],
   "source": [
    "m = np.mean(edep)\n",
    "em = stats.sem(edep)\n",
    "tm = stats.tmean(edep, limits=(edep.min(),np.mean(edep) + 1 * np.std(edep) + 2))\n",
    "etm = stats.tsem(edep, limits=(edep.min(),np.mean(edep) + 1 * np.std(edep) + 2))\n",
    "print(f'Mean:        {m},       Error on mean: {em}, SNR: {m/em}')\n",
    "print(f'Trimmed mean {tm}, Error on trimmed mean: {etm}, SNR: {tm/etm}')\n",
    "#print(stats.mode(np.round(edep, 0)))\n"
   ]
  },
  {
   "cell_type": "code",
   "execution_count": null,
   "id": "lined-officer",
   "metadata": {},
   "outputs": [],
   "source": [
    "## edep.to_csv('simdata.csv', sep =',', mode='w')"
   ]
  },
  {
   "cell_type": "code",
   "execution_count": null,
   "id": "public-defendant",
   "metadata": {},
   "outputs": [],
   "source": []
  }
 ],
 "metadata": {
  "kernelspec": {
   "display_name": "Python 3",
   "language": "python",
   "name": "python3"
  }
 },
 "nbformat": 4,
 "nbformat_minor": 5
}
