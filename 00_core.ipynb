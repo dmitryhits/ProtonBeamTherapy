{
 "cells": [
  {
   "cell_type": "code",
   "execution_count": null,
   "metadata": {},
   "outputs": [],
   "source": [
    "# default_exp core"
   ]
  },
  {
   "cell_type": "markdown",
   "metadata": {},
   "source": [
    "# Tools to aid automotizing GATE simulations\n",
    "\n",
    "> API details."
   ]
  },
  {
   "cell_type": "code",
   "execution_count": null,
   "metadata": {},
   "outputs": [],
   "source": [
    "#hide\n",
    "from nbdev.showdoc import *"
   ]
  },
  {
   "cell_type": "code",
   "execution_count": null,
   "metadata": {},
   "outputs": [],
   "source": [
    "#export\n",
    "def create_sensor(n=0, x_length=20, z_length=20, thickness=0.1, x_loc=0, y_loc=0, z_loc=0, \n",
    "                  system='scanner', material='Silicon'):\n",
    "    '''\n",
    "    This function will create a GATE macro for creating a sensor\n",
    "    which in the current implementation is a flat plane perpendicular to beam which is in y direction\n",
    "    thickness dimension is in mm\n",
    "    all other dimensions are in cm\n",
    "    '''\n",
    "\n",
    "\n",
    "    lines = f\"\"\"#sensor\n",
    "    /gate/scanner/daughters/name sensor{n}\n",
    "    /gate/{system}/daughters/insert box\n",
    "    /gate/sensor{n}/geometry/setXLength      {x_length} cm\n",
    "    /gate/sensor{n}/geometry/setYLength      {thickness} mm\n",
    "    /gate/sensor{n}/geometry/setZLength      {z_length} cm\n",
    "    /gate/sensor{n}/setMaterial {material}\n",
    "    /gate/sensor{n}/placement/setTranslation {x_loc} {y_loc} {z_loc} cm\n",
    "    /gate/sensor{n}/vis/setVisible 1\n",
    "    /gate/sensor{n}/vis/setColor yellow\n",
    "    /gate/systems/{system}/level1/attach sensor{n}\n",
    "    /gate/sensor{n}/attachCrystalSD\"\"\"\n",
    "    # lines = lines.split('\\n')\n",
    "    # print(lines)\n",
    "    # for i, line in enumerate(lines):\n",
    "    #     print(i, line)\n",
    "\n",
    "    with open(f'mac/sensor{n}.mac', 'w') as file:\n",
    "        file.write(lines)\n",
    "        # file.write('\\n'.join(lines)+'\\n')"
   ]
  },
  {
   "cell_type": "code",
   "execution_count": null,
   "metadata": {},
   "outputs": [],
   "source": [
    "#export\n",
    "import math\n",
    "def Ek(mass, momentum):\n",
    "    '''Helpfull function that converts momentum to kinetic energy'''\n",
    "    return math.sqrt(mass**2 + momentum**2) - mass"
   ]
  },
  {
   "cell_type": "code",
   "execution_count": null,
   "metadata": {},
   "outputs": [
    {
     "name": "stdout",
     "output_type": "stream",
     "text": [
      "Converted 00_core.ipynb.\n",
      "Converted index.ipynb.\n"
     ]
    }
   ],
   "source": [
    "#hide\n",
    "from nbdev.export import notebook2script; notebook2script()"
   ]
  },
  {
   "cell_type": "code",
   "execution_count": null,
   "metadata": {},
   "outputs": [],
   "source": []
  }
 ],
 "metadata": {
  "kernelspec": {
   "display_name": "Python 3",
   "language": "python",
   "name": "python3"
  }
 },
 "nbformat": 4,
 "nbformat_minor": 2
}
