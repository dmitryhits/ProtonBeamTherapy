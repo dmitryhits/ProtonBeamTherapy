{
 "cells": [
  {
   "cell_type": "code",
   "execution_count": null,
   "metadata": {},
   "outputs": [],
   "source": [
    "# default_exp core"
   ]
  },
  {
   "cell_type": "markdown",
   "metadata": {},
   "source": [
    "# Tools to create macros for GATE simulations\n",
    "\n",
    "> API details."
   ]
  },
  {
   "cell_type": "code",
   "execution_count": null,
   "metadata": {},
   "outputs": [],
   "source": [
    "#hide\n",
    "from nbdev.showdoc import *"
   ]
  },
  {
   "cell_type": "code",
   "execution_count": null,
   "metadata": {},
   "outputs": [],
   "source": [
    "#export\n",
    "import math\n",
    "def Ek(mass, momentum):\n",
    "    '''Helpfull function that converts momentum to kinetic energy'''\n",
    "    return math.sqrt(mass**2 + momentum**2) - mass"
   ]
  },
  {
   "cell_type": "code",
   "execution_count": null,
   "metadata": {},
   "outputs": [],
   "source": [
    "#export\n",
    "import subprocess\n",
    "from os import path\n",
    "from time import strftime\n",
    "\n",
    "class MacroWriter:\n",
    "    def __init__(self, macro_folder='mac', results_folder='results', logs_folder='logs', sensor_material='Silicon'):\n",
    "        self.macro = macro_folder\n",
    "        self.results = results_folder\n",
    "        self.logs = logs_folder\n",
    "        self.sensor_material = sensor_material\n",
    "        \n",
    "    def create_sensor(self, n=0, x_length=20, z_length=20, thickness=0.1, x_loc=0, y_loc=0, z_loc=0, \n",
    "                  system='scanner'):\n",
    "    \n",
    "        \"\"\"Write a GATE macro file for creating a sensor\n",
    "\n",
    "        In the current implementation snesor is a flat plane perpendicular to the beam \n",
    "        which is by default in y direction\n",
    "        thickness dimension is in mm\n",
    "        all other dimensions are in cm\"\"\"\n",
    "\n",
    "\n",
    "\n",
    "        lines = f\"\"\"#sensor\n",
    "        /gate/scanner/daughters/name sensor{n}\n",
    "        /gate/{system}/daughters/insert box\n",
    "        /gate/sensor{n}/geometry/setXLength      {x_length} cm\n",
    "        /gate/sensor{n}/geometry/setYLength      {thickness} mm\n",
    "        /gate/sensor{n}/geometry/setZLength      {z_length} cm\n",
    "        /gate/sensor{n}/setMaterial {self.sensor_material}\n",
    "        /gate/sensor{n}/placement/setTranslation {x_loc} {y_loc} {z_loc} cm\n",
    "        /gate/sensor{n}/vis/setVisible 1\n",
    "        /gate/sensor{n}/vis/setColor yellow\n",
    "        /gate/systems/{system}/level1/attach sensor{n}\n",
    "        /gate/sensor{n}/attachCrystalSD\"\"\"\n",
    "\n",
    "\n",
    "        with open(f'{self.macro}/sensor{n}.mac', 'w') as file:\n",
    "            file.write(lines)\n",
    "            \n",
    "            \n",
    "    def create_phantom_layer(self, n=0, x_length=20, z_length=20, thickness=1, x_loc=0, y_loc=0, z_loc=0, material='Water'):\n",
    "        '''\n",
    "        Write a GATE macro for creating a phantom box.\n",
    "        \n",
    "        which in the current implementation is a flat box perpendicular to beam which is in y direction\n",
    "        all dimensions are in cm\n",
    "        '''\n",
    "        lines = f\"\"\"\n",
    "        #phatom box {n}\n",
    "        /gate/world/daughters/name              box{n}\n",
    "        /gate/world/daughters/insert            box\n",
    "        /gate/box2/geometry/setXLength      {x_length} cm\n",
    "        /gate/box2/geometry/setYLength      {thickness} cm\n",
    "        /gate/box2/geometry/setZLength      {z_length} cm\n",
    "        /gate/box2/placement/setTranslation {x_loc} {y_loc} {z_loc} cm\n",
    "        /gate/box2/setMaterial {material}\n",
    "        /gate/box2/vis/setVisible 1\n",
    "        /gate/box2/vis/setColor blue\n",
    "        #*************************************************************\n",
    "        #  Physics (infrared divergence) cuts for the layer{n}\n",
    "        #*************************************************************\n",
    "        /gate/physics/Gamma/SetCutInRegion      box{n} 0.1 mm\n",
    "        /gate/physics/Electron/SetCutInRegion   box{n} 0.1 mm\n",
    "        /gate/physics/Positron/SetCutInRegion   box{n} 0.1 mm\n",
    "\n",
    "        #*************************************************************\n",
    "        # attached actor to the box{0}\n",
    "        #***************************************************************\n",
    "        /gate/actor/addActor PhaseSpaceActor         tracker{n}\n",
    "        /gate/actor/tracker{n}/save                     tracker{n}.root\n",
    "        /gate/actor/tracker{n}/attachTo                 box{n}\n",
    "        /gate/actor/tracker{n}/enableNuclearFlag          true\n",
    "        /gate/actor/tracker{n}/enableProductionProcess  false\n",
    "        #/gate/actor/tracker{n}/useVolumeFrame           true\n",
    "        /gate/actor/tracker{n}/storeOutgoingParticles true\n",
    "        \"\"\"\n",
    "        with open(f'{self.macro}/phantom{n}.mac', 'w') as file:\n",
    "                file.write(lines)\n",
    "        \n",
    "    def create_beam(self, energy=250, sigma_energy=1.0, position={'x':0, 'y':250, 'z':0}):\n",
    "        lines = f'''\n",
    "        #=====================================================\n",
    "        # BEAMS\n",
    "        #=====================================================\n",
    "        /gate/source/addSource PBS PencilBeam\n",
    "        /gate/source/PBS/setParticleType proton\n",
    "        /gate/source/PBS/setEnergy {energy} MeV\n",
    "        /gate/source/PBS/setSigmaEnergy {sigma_energy} MeV\n",
    "        /gate/source/PBS/setPosition {position.x} {position.y} {position.z} mm\n",
    "        /gate/source/PBS/setSigmaX 2 mm\n",
    "        /gate/source/PBS/setSigmaY 2 mm\n",
    "        /gate/source/PBS/setSigmaTheta 3 mrad\n",
    "        /gate/source/PBS/setSigmaPhi 3 mrad\n",
    "        /gate/source/PBS/setEllipseXThetaEmittance 15 mm*mrad\n",
    "        #/gate/source/PBS/setEllipseXThetaRotationNorm negative\n",
    "        /gate/source/PBS/setEllipseYPhiEmittance 15 mm*mrad\n",
    "        /gate/source/PBS/setEllipseYPhiRotationNorm negative\n",
    "        /gate/source/PBS/setRotationAxis 1 0 0\n",
    "        /gate/source/PBS/setRotationAngle 90 deg\n",
    "        #/gate/application/setTotalNumberOfPrimaries 10000\n",
    "        '''\n",
    "        with open(f'{self.macro}/beam{energy}.mac', 'w') as f:\n",
    "            f.write(lines)\n",
    "            \n",
    "    def create_start_beams(n_primaries=10000):\n",
    "        lines = f\"\"\"\n",
    "        #=====================================================\n",
    "        # START BEAMS\n",
    "        #=====================================================\n",
    "\n",
    "        # JamesRandom Ranlux64 MersenneTwister\n",
    "        /gate/random/setEngineName MersenneTwister\n",
    "        /gate/random/setEngineSeed 123456\n",
    "\n",
    "        # /gate/random/verbose 1\n",
    "        # /gate/source/verbose 0\n",
    "\n",
    "        # to check Steplimiter\n",
    "        #/tracking/verbose 1\n",
    "\n",
    "        #/gate/application/noGlobalOutput\n",
    "        /gate/application/setTotalNumberOfPrimaries {n_primaries}\n",
    "        \"\"\"\n",
    "        with open(f'{self.macro}/start_beam{n_primaries}.mac', 'w') as f:\n",
    "            f.write(lines)\n",
    "            \n",
    "    def create_macro_file(self, macro_dict):\n",
    "        lines = f\"\"\"\n",
    "        #=====================================================\n",
    "        # GEOMETRY\n",
    "        #=====================================================\n",
    "        /control/execute {macro_folder}/{macro_dict[\"geometry\"]}.mac    \n",
    "        #=====================================================\n",
    "        # PHYSICS\n",
    "        #=====================================================\n",
    "        /control/execute {macro_folder}/{macro_dict[\"physics\"]}.mac\n",
    "        #================================================================\n",
    "        #     ACTORS\n",
    "        #================================================================\n",
    "        /control/execute {macro_folder}/{macro_dict[\"actors\"]}.mac\n",
    "        #=====================================================\n",
    "        # INITIALISATION\n",
    "        #=====================================================\n",
    "        /control/execute {macro_folder}/{macro_dict[\"intialisation\"]}.mac\n",
    "        #=====================================================\n",
    "        # BEAMS\n",
    "        #=====================================================\n",
    "        /control/execute {macro_folder}/{macro_dict[\"beam\"]}.mac\n",
    "        #=====================================================\n",
    "        # START BEAMS\n",
    "        #=====================================================\n",
    "        /control/execute {macro_folder}/{macro_dict[\"start_beam\"]}.mac\n",
    "        #===============================================\n",
    "        # OUTPUT SETTINGS\n",
    "        #===============================================\n",
    "        /gate/application/start\n",
    "        exit\n",
    "        \"\"\"\n",
    "        timestamp = strftime(\"%Y%b%d_%H%M\")\n",
    "        with open(f'{self.macro}/main_macro{timestamp}.mac', 'w') as f:\n",
    "            f.write()"
   ]
  },
  {
   "cell_type": "code",
   "execution_count": null,
   "metadata": {},
   "outputs": [],
   "source": [
    "my_macro = MacroWriter()"
   ]
  },
  {
   "cell_type": "code",
   "execution_count": null,
   "metadata": {},
   "outputs": [],
   "source": [
    "#export\n",
    "def run_macro(macroname, log_folder='logs'):\n",
    "    log_file_name = f'gate_stdout_err_{strftime(\"%Y%b%d_%H%M\")}.log'\n",
    "    log_path = path.join(log_folder, log_file_name)\n",
    "    with open(log_path,'a+') as f_stdout:\n",
    "        subprocess.run(['Gate', macroname], stdout=f_stdout, stderr=subprocess.STDOUT)\n",
    "    "
   ]
  },
  {
   "cell_type": "code",
   "execution_count": null,
   "metadata": {},
   "outputs": [
    {
     "name": "stdout",
     "output_type": "stream",
     "text": [
      "Converted 00_macro_tools.ipynb.\n",
      "Converted 01_analysis.ipynb.\n",
      "Converted index.ipynb.\n"
     ]
    }
   ],
   "source": [
    "#hide\n",
    "from nbdev.export import notebook2script; notebook2script()"
   ]
  },
  {
   "cell_type": "code",
   "execution_count": null,
   "metadata": {},
   "outputs": [
    {
     "name": "stdout",
     "output_type": "stream",
     "text": [
      "00_core.ipynb       MANIFEST.in         \u001b[1m\u001b[36mdocs\u001b[m\u001b[m/               \u001b[1m\u001b[36mmac\u001b[m\u001b[m/\r\n",
      "01_analysis.ipynb   Makefile            \u001b[1m\u001b[36mgate_simulation\u001b[m\u001b[m/    settings.ini\r\n",
      "CONTRIBUTING.md     README.md           gate_stdout.log     setup.py\r\n",
      "LICENSE             docker-compose.yml  index.ipynb         simdata.csv\r\n"
     ]
    }
   ],
   "source": [
    "ls"
   ]
  },
  {
   "cell_type": "code",
   "execution_count": null,
   "metadata": {},
   "outputs": [],
   "source": []
  }
 ],
 "metadata": {
  "kernelspec": {
   "display_name": "Python 3",
   "language": "python",
   "name": "python3"
  }
 },
 "nbformat": 4,
 "nbformat_minor": 2
}
