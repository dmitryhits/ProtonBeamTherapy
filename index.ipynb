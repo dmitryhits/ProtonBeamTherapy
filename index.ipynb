{
 "cells": [
  {
   "cell_type": "code",
   "execution_count": null,
   "metadata": {},
   "outputs": [],
   "source": [
    "#hide\n",
    "%load_ext autoreload\n",
    "%autoreload 2"
   ]
  },
  {
   "cell_type": "code",
   "execution_count": null,
   "metadata": {},
   "outputs": [],
   "source": [
    "#hide\n",
    "from ProtonBeamTherapy.macrotools import *\n",
    "from ProtonBeamTherapy.analysis import *"
   ]
  },
  {
   "cell_type": "markdown",
   "metadata": {},
   "source": [
    "# Simulation of the proton beam tracker/calorimeter\n",
    "\n",
    "> This project will have tools to aid a simulation and optimizatin of the proton beam tracker/calorimeter in application for determining the corrections to the proton stopping powers for treatment planning."
   ]
  },
  {
   "cell_type": "markdown",
   "metadata": {},
   "source": [
    "![image.png](media/gate_simulation.png \"Gate Simulation\")"
   ]
  },
  {
   "cell_type": "markdown",
   "metadata": {},
   "source": [
    "## Prerequisites"
   ]
  },
  {
   "cell_type": "markdown",
   "metadata": {},
   "source": [
    "To use this package you need to first install:\n",
    "* [root](https://root.cern/install/) \n",
    "* [Gate](http://www.opengatecollaboration.org)\n",
    "    * I am using a version of Gate I cloned from [their Github](https://github.com/OpenGATE/Gate) page, because the official 9.0 verion has a bug.\n",
    "* [Geant4](https://geant4.web.cern.ch/support/download)\n",
    "    * Check the requirements for the correct verion of Geant4 on [OpenGate](http://www.opengatecollaboration.org) page\n",
    "* [Cmake](https://cmake.org/download/)"
   ]
  },
  {
   "cell_type": "markdown",
   "metadata": {},
   "source": [
    "## Install"
   ]
  },
  {
   "cell_type": "markdown",
   "metadata": {},
   "source": [
    "**Not working yet**\n",
    "\n",
    "~~`pip install gate_simulation`~~"
   ]
  },
  {
   "cell_type": "markdown",
   "metadata": {},
   "source": [
    "## How to use"
   ]
  },
  {
   "cell_type": "markdown",
   "metadata": {},
   "source": [
    "Initiate a macro writer:"
   ]
  },
  {
   "cell_type": "code",
   "execution_count": null,
   "metadata": {},
   "outputs": [],
   "source": [
    "test_macro = MacroWriter()"
   ]
  },
  {
   "cell_type": "markdown",
   "metadata": {},
   "source": [
    "## The error on the mean versus sensor thickness\n",
    "Sensor material is silicon.\n",
    "The mean is the trimmed mean the upper limit is twice the standard deviation from the untrimmed mean."
   ]
  },
  {
   "cell_type": "code",
   "execution_count": null,
   "metadata": {},
   "outputs": [
    {
     "name": "stdout",
     "output_type": "stream",
     "text": [
      "system thickness: 0.6\n",
      "y location of sensor 0 is: 0.25\n",
      "system created with: thickness: 0.6 at loc: -21\n",
      "system thickness: 0.7\n",
      "y location of sensor 0 is: 0.24999999999999997\n",
      "system created with: thickness: 0.7 at loc: -21\n",
      "system thickness: 0.8\n",
      "y location of sensor 0 is: 0.25\n",
      "system created with: thickness: 0.8 at loc: -21\n",
      "system thickness: 0.9\n",
      "y location of sensor 0 is: 0.25\n",
      "system created with: thickness: 0.9 at loc: -21\n",
      "system thickness: 1.0\n",
      "y location of sensor 0 is: 0.25\n",
      "system created with: thickness: 1.0 at loc: -21\n",
      "system thickness: 1.1\n",
      "y location of sensor 0 is: 0.25000000000000006\n",
      "system created with: thickness: 1.1 at loc: -21\n",
      "system thickness: 1.2000000000000002\n",
      "y location of sensor 0 is: 0.25000000000000006\n",
      "system created with: thickness: 1.2000000000000002 at loc: -21\n",
      "system thickness: 1.3\n",
      "y location of sensor 0 is: 0.25\n",
      "system created with: thickness: 1.3 at loc: -21\n",
      "system thickness: 1.4\n",
      "y location of sensor 0 is: 0.24999999999999994\n",
      "system created with: thickness: 1.4 at loc: -21\n",
      "system thickness: 1.5\n",
      "y location of sensor 0 is: 0.25\n",
      "system created with: thickness: 1.5 at loc: -21\n"
     ]
    }
   ],
   "source": [
    "import numpy as np\n",
    "from scipy import stats\n",
    "\n",
    "tm = []\n",
    "etm = []\n",
    "thicknesses = np.linspace(0.1, 1.0, 10)\n",
    "for t in thicknesses:\n",
    "    main_macro, output_root = create_all(sensor_thickness=t)\n",
    "    run_macro(main_macro)\n",
    "    root_hits_file = output_root['hits'][0]\n",
    "    edep = get_edep_data(get_df_subentry2(root_hits_file), sensor=0)\n",
    "    # check that edep exists\n",
    "    if edep.any():\n",
    "        tm.append(stats.tmean(edep, limits=(edep.min(),np.mean(edep) + 2 * np.std(edep))))\n",
    "        etm.append(stats.tsem(edep, limits=(edep.min(),np.mean(edep) + 2 * np.std(edep))))\n",
    "    else:\n",
    "        print(f'No result for point {t}')\n",
    "        # print(f'Trimmed mean {round(tm, 2)}, Error on trimmed mean: {round(etm, 2)}, SNR: {round(tm/etm, 2)}')"
   ]
  },
  {
   "cell_type": "markdown",
   "metadata": {},
   "source": [
    "20 phatom layers each 1 cm thick, the two outer layers had skull as their material, the 18 inner ones have water as the material. The beam was 250 MeV proton pencil beam. The sensor thickness was varied between 100 and 1000 $\\mu$m"
   ]
  },
  {
   "cell_type": "code",
   "execution_count": null,
   "metadata": {},
   "outputs": [
    {
     "data": {
      "text/plain": [
       "<matplotlib.collections.PathCollection at 0x7fa760ce1d00>"
      ]
     },
     "execution_count": null,
     "metadata": {},
     "output_type": "execute_result"
    },
    {
     "data": {
      "image/png": "[encoded data removed]",
      "text/plain": [
       "<Figure size 432x288 with 1 Axes>"
      ]
     },
     "metadata": {
      "needs_background": "light"
     },
     "output_type": "display_data"
    }
   ],
   "source": [
    "import matplotlib.pyplot as plt\n",
    "plt.scatter(thicknesses, np.array(tm)/np.array(etm))"
   ]
  },
  {
   "cell_type": "markdown",
   "metadata": {},
   "source": [
    "---"
   ]
  },
  {
   "cell_type": "markdown",
   "metadata": {},
   "source": [
    "### Save the data to and read them back from csv"
   ]
  },
  {
   "cell_type": "markdown",
   "metadata": {},
   "source": [
    "save the above example with 20 phantom layers"
   ]
  },
  {
   "cell_type": "code",
   "execution_count": null,
   "metadata": {},
   "outputs": [],
   "source": [
    "import csv\n",
    "columns = [\"thickness\", \"trimmed mean\", \"error_on_trimmed_mean\"]\n",
    "with open('thickness_20.csv', 'w', encoding='utf-8') as f_out:\n",
    "    f_writer = csv.writer(f_out, delimiter=',', lineterminator='\\n')\n",
    "    f_writer.writerow(columns)\n",
    "    f_writer.writerows(zip(thicknesses, tm, etm))"
   ]
  },
  {
   "cell_type": "markdown",
   "metadata": {},
   "source": [
    "Read back an earlier result with 5 phatom layers each 1 cm thick, the two outer layers had skull as their material, the 3 inner ones have water as the material. The beam the same as in the above example 250 MeV proton pencil beam. The sensor thickness was varied between 20 and 1000 $\\mu$m in 20 $\\mu$m steps"
   ]
  },
  {
   "cell_type": "code",
   "execution_count": null,
   "metadata": {},
   "outputs": [
    {
     "data": {
      "text/plain": [
       "<matplotlib.collections.PathCollection at 0x7fa747cba040>"
      ]
     },
     "execution_count": null,
     "metadata": {},
     "output_type": "execute_result"
    },
    {
     "data": {
      "image/png": "[encoded data removed]",
      "text/plain": [
       "<Figure size 432x288 with 1 Axes>"
      ]
     },
     "metadata": {
      "needs_background": "light"
     },
     "output_type": "display_data"
    }
   ],
   "source": [
    "import pandas\n",
    "thickness_df = pandas.read_csv('thickness.csv')\n",
    "# thickness_df.head()\n",
    "plt.scatter(thickness_df['thickness'], thickness_df['trimmed mean']/thickness_df['error_on_trimmed_mean'])"
   ]
  },
  {
   "cell_type": "markdown",
   "metadata": {},
   "source": [
    "---"
   ]
  },
  {
   "cell_type": "markdown",
   "metadata": {},
   "source": [
    "Study of the trimmed mean. I have checked that the error on the trimmed mean is larger than the error arising from uncertainty on the upper trim value. The upper trim value of 2 standard deviation from the untrimmed mean seems to give a reasonable result."
   ]
  },
  {
   "cell_type": "code",
   "execution_count": null,
   "metadata": {},
   "outputs": [
    {
     "name": "stdout",
     "output_type": "stream",
     "text": [
      "Mean:        1152.969970703125,       Error on mean: 11.57, SNR: 99.67\n",
      "Trimmed mean 1047.13, Error on trimmed mean: 2.89, SNR: 362.09\n",
      "Trimmed mean upper 1047.39, Trimmed mean lower 1046.61 difference: 0.78, SNR: 1338.37\n"
     ]
    }
   ],
   "source": [
    "m = np.mean(edep)\n",
    "em = stats.sem(edep)\n",
    "tm = stats.tmean(edep, limits=(edep.min(),np.mean(edep) + 2 * np.std(edep)))\n",
    "tm_p = stats.tmean(edep, limits=(edep.min(),np.mean(edep) + 2 * np.std(edep) + em))\n",
    "tm_m = stats.tmean(edep, limits=(edep.min(),np.mean(edep) + 2 * np.std(edep) - em))\n",
    "etm = stats.tsem(edep, limits=(edep.min(),np.mean(edep) + 2 * np.std(edep)))\n",
    "print(f'Mean:        {round(m,2)},       Error on mean: {round(em,2)}, SNR: {round(m/em, 2)}')\n",
    "print(f'Trimmed mean {round(tm, 2)}, Error on trimmed mean: {round(etm, 2)}, SNR: {round(tm/etm, 2)}')\n",
    "print(f'Trimmed mean upper {round(tm_p, 2)}, Trimmed mean lower {round(tm_m, 2)} difference: {round(tm_p - tm_m, 2)}, SNR: {round(tm/(tm_p - tm_m), 2)}')\n",
    "\n",
    "#print(stats.mode(np.round(edep, 0)))"
   ]
  },
  {
   "cell_type": "markdown",
   "metadata": {},
   "source": [
    "---"
   ]
  },
  {
   "cell_type": "markdown",
   "metadata": {},
   "source": [
    "## Kinetic energy from momentum"
   ]
  },
  {
   "cell_type": "markdown",
   "metadata": {},
   "source": [
    "Recalculating the kinetic energy $E_k$ of the  particle mass  $M$ from its momentum $p$  according to:\n",
    "$$E_k = \\sqrt{M^2  + p^2} - M$$"
   ]
  },
  {
   "cell_type": "code",
   "execution_count": null,
   "metadata": {},
   "outputs": [],
   "source": [
    "print(f'The kinetic energy of 2 GeV/c proton is {Ek(938,2000):.0f} MeV')"
   ]
  },
  {
   "cell_type": "markdown",
   "metadata": {},
   "source": [
    "## Export notebooks"
   ]
  },
  {
   "cell_type": "code",
   "execution_count": null,
   "metadata": {},
   "outputs": [
    {
     "name": "stdout",
     "output_type": "stream",
     "text": [
      "Converted 00_macro_tools.ipynb.\n",
      "Converted 01_analysis.ipynb.\n",
      "Converted 02_scanners.ipynb.\n",
      "Converted index.ipynb.\n"
     ]
    }
   ],
   "source": [
    "#hide\n",
    "from nbdev.export import notebook2script; notebook2script()"
   ]
  },
  {
   "cell_type": "code",
   "execution_count": null,
   "metadata": {},
   "outputs": [],
   "source": []
  }
 ],
 "metadata": {
  "kernelspec": {
   "display_name": "Python 3",
   "language": "python",
   "name": "python3"
  }
 },
 "nbformat": 4,
 "nbformat_minor": 2
}
