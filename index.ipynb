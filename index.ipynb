{
 "cells": [
  {
   "cell_type": "code",
   "execution_count": null,
   "metadata": {},
   "outputs": [],
   "source": [
    "#hide\n",
    "%load_ext autoreload\n",
    "%autoreload 2"
   ]
  },
  {
   "cell_type": "code",
   "execution_count": null,
   "metadata": {},
   "outputs": [],
   "source": [
    "#hide\n",
    "from gate_simulation.macrotools import *\n",
    "from gate_simulation.analysis import *"
   ]
  },
  {
   "cell_type": "markdown",
   "metadata": {},
   "source": [
    "# Simulation of the proton beam tracker/calorimeter\n",
    "\n",
    "> This project will have tools to aid a simulation and optimizatin of the proton beam tracker/calorimeter in application for determining the corrections to the proton stopping powers for treatment planning."
   ]
  },
  {
   "cell_type": "markdown",
   "metadata": {},
   "source": [
    "![image.png](media/gate_simulation.png \"Gate Simulation\")"
   ]
  },
  {
   "cell_type": "markdown",
   "metadata": {},
   "source": [
    "## Prerequisites"
   ]
  },
  {
   "cell_type": "markdown",
   "metadata": {},
   "source": [
    "To use this package you need to first install:\n",
    "* [root](https://root.cern/install/) \n",
    "* [Gate](http://www.opengatecollaboration.org)\n",
    "    * I am using a version of Gate I cloned from [their Github](https://github.com/OpenGATE/Gate) page, because the official 9.0 verion has a bug.\n",
    "* [Geant4](https://geant4.web.cern.ch/support/download)\n",
    "    * Check the requirements for the correct verion of Geant4 on [OpenGate](http://www.opengatecollaboration.org) page\n",
    "* [Cmake](https://cmake.org/download/)"
   ]
  },
  {
   "cell_type": "markdown",
   "metadata": {},
   "source": [
    "## Install"
   ]
  },
  {
   "cell_type": "markdown",
   "metadata": {},
   "source": [
    "**Not working yet**\n",
    "\n",
    "~~`pip install gate_simulation`~~"
   ]
  },
  {
   "cell_type": "markdown",
   "metadata": {},
   "source": [
    "## How to use"
   ]
  },
  {
   "cell_type": "markdown",
   "metadata": {},
   "source": [
    "Initiate a macro writer:"
   ]
  },
  {
   "cell_type": "code",
   "execution_count": null,
   "metadata": {},
   "outputs": [],
   "source": [
    "test_macro = MacroWriter()"
   ]
  },
  {
   "cell_type": "code",
   "execution_count": null,
   "metadata": {},
   "outputs": [],
   "source": []
  },
  {
   "cell_type": "markdown",
   "metadata": {},
   "source": [
    "Create a macro:"
   ]
  },
  {
   "cell_type": "code",
   "execution_count": null,
   "metadata": {},
   "outputs": [],
   "source": [
    "def create_all(n_phantom_layers = 5, phantom_layer_thickness = 1, phantom_material = 'Water', \n",
    "               distance_to_system = 1, system_thickness = 1, n_sensors = 1, sensor_pitch = 0.5, sensor_thickness=0.5):\n",
    "    \"\"\"sets parameters for phantom and system geometries\"\"\"\n",
    "    phantom_thickness = n_phantom_layers * phantom_layer_thickness\n",
    "    system_thickness = (sensor_thickness + sensor_pitch) * n_sensors\n",
    "    # initialize an instance of MacroWriter\n",
    "    my_macro = MacroWriter(system_y_loc=(-1)*phantom_thickness - distance_to_system, \n",
    "                           system_thickness=system_thickness)\n",
    "    # create phantom layers\n",
    "    for layer in range(n_phantom_layers):\n",
    "        phantom_material = 'Water'\n",
    "        # set material to Skull for the first and the last layer\n",
    "        if layer == 0 or layer == n_phantom_layers - 1: \n",
    "            phantom_material = 'Skull'\n",
    "        # layers start from 0 and extend in the negative y direction\n",
    "        y_loc = (-1) * (phantom_layer_thickness * layer)\n",
    "        my_macro.create_phantom_layer(n=layer, thickness=phantom_layer_thickness, y_loc=y_loc,\n",
    "                                     material=phantom_material)\n",
    "    for i_sensor in range(n_sensors):\n",
    "        my_macro.create_sensor(n=i_sensor, y_loc= -(sensor_pitch + sensor_thickness) * i_sensor, \n",
    "                               thickness=sensor_thickness)\n",
    "    return my_macro.create_macro_file()"
   ]
  },
  {
   "cell_type": "code",
   "execution_count": null,
   "metadata": {},
   "outputs": [
    {
     "name": "stdout",
     "output_type": "stream",
     "text": [
      "system thickness: 3.0\n",
      "y location of sensor 0 is: 1.25\n",
      "system created with: thickness: 3.0 at loc: -6\n",
      "system thickness: 3.0\n",
      "y location of sensor 1 is: 0.25\n",
      "system thickness: 3.0\n",
      "y location of sensor 2 is: -0.75\n"
     ]
    }
   ],
   "source": [
    "main_macro, output_root = create_all(n_sensors=3)"
   ]
  },
  {
   "cell_type": "code",
   "execution_count": null,
   "metadata": {},
   "outputs": [],
   "source": [
    "run_macro(main_macro)"
   ]
  },
  {
   "cell_type": "markdown",
   "metadata": {},
   "source": [
    "## The error on the mean versus sensor thickness\n",
    "Sensor material is silicon.\n",
    "The mean is the trimmed mean the upper limit is twice the standard deviation from the untrimmed mean."
   ]
  },
  {
   "cell_type": "code",
   "execution_count": null,
   "metadata": {},
   "outputs": [],
   "source": [
    "tm = []\n",
    "etm = []\n",
    "thicknesses = np.linspace(0.02, 1.0)\n",
    "for t in thicknesses:\n",
    "    main_macro, output_root = create_all(sensor_thickness=t)\n",
    "    run_macro(main_macro)\n",
    "    root_hits_file = output_root['hits'][0]\n",
    "    edep = get_edep_data(root_hits_file)\n",
    "    # check that edep exists\n",
    "    if edep.any():\n",
    "        tm.append(stats.tmean(edep, limits=(edep.min(),np.mean(edep) + 2 * np.std(edep))))\n",
    "        etm.append(stats.tsem(edep, limits=(edep.min(),np.mean(edep) + 2 * np.std(edep))))\n",
    "    else:\n",
    "        print(f'No result for point {t}')\n",
    "        # print(f'Trimmed mean {round(tm, 2)}, Error on trimmed mean: {round(etm, 2)}, SNR: {round(tm/etm, 2)}')"
   ]
  },
  {
   "cell_type": "code",
   "execution_count": null,
   "metadata": {},
   "outputs": [
    {
     "data": {
      "text/plain": [
       "<matplotlib.collections.PathCollection at 0x7fa2b2110ac0>"
      ]
     },
     "execution_count": null,
     "metadata": {},
     "output_type": "execute_result"
    },
    {
     "data": {
      "image/png": "[encoded data removed]",
      "text/plain": [
       "<Figure size 432x288 with 1 Axes>"
      ]
     },
     "metadata": {
      "needs_background": "light"
     },
     "output_type": "display_data"
    }
   ],
   "source": [
    "import matplotlib.pyplot as plt\n",
    "plt.scatter(thicknesses, np.array(tm)/np.array(etm))"
   ]
  },
  {
   "cell_type": "code",
   "execution_count": null,
   "metadata": {},
   "outputs": [],
   "source": [
    "import csv\n",
    "columns = [\"thickness\", \"trimmed mean\", \"error_on_trimmed_mean\"]\n",
    "with open('thickness.csv', 'w', encoding='utf-8') as f_out:\n",
    "    f_writer = csv.writer(f_out, delimiter=',', lineterminator='\\n')\n",
    "    f_writer.writerow(columns)\n",
    "    f_writer.writerows(zip(thicknesses, tm, etm))"
   ]
  },
  {
   "cell_type": "code",
   "execution_count": null,
   "metadata": {},
   "outputs": [
    {
     "data": {
      "text/plain": [
       "<matplotlib.collections.PathCollection at 0x7fa2963e2f40>"
      ]
     },
     "execution_count": null,
     "metadata": {},
     "output_type": "execute_result"
    },
    {
     "data": {
      "image/png": "[encoded data removed]",
      "text/plain": [
       "<Figure size 432x288 with 1 Axes>"
      ]
     },
     "metadata": {
      "needs_background": "light"
     },
     "output_type": "display_data"
    }
   ],
   "source": [
    "import pandas\n",
    "thickness_df = pandas.read_csv('thickness.csv')\n",
    "# thickness_df.head()\n",
    "plt.scatter(thickness_df['thickness'], thickness_df['trimmed mean']/thickness_df['error_on_trimmed_mean'])"
   ]
  },
  {
   "cell_type": "code",
   "execution_count": null,
   "metadata": {},
   "outputs": [
    {
     "name": "stdout",
     "output_type": "stream",
     "text": [
      "Mean:        181.66000366210938,       Error on mean: 2.4, SNR: 75.55\n",
      "Trimmed mean 161.17, Error on trimmed mean: 0.66, SNR: 242.78\n",
      "Trimmed mean upper 161.22, Trimmed mean lower 161.17 difference: 0.05, SNR: 3146.49\n"
     ]
    }
   ],
   "source": [
    "import numpy as np\n",
    "from scipy import stats\n",
    "\n",
    "m = np.mean(edep)\n",
    "em = stats.sem(edep)\n",
    "tm = stats.tmean(edep, limits=(edep.min(),np.mean(edep) + 2 * np.std(edep)))\n",
    "tm_p = stats.tmean(edep, limits=(edep.min(),np.mean(edep) + 2 * np.std(edep) + em))\n",
    "tm_m = stats.tmean(edep, limits=(edep.min(),np.mean(edep) + 2 * np.std(edep) - em))\n",
    "etm = stats.tsem(edep, limits=(edep.min(),np.mean(edep) + 2 * np.std(edep)))\n",
    "print(f'Mean:        {round(m,2)},       Error on mean: {round(em,2)}, SNR: {round(m/em, 2)}')\n",
    "print(f'Trimmed mean {round(tm, 2)}, Error on trimmed mean: {round(etm, 2)}, SNR: {round(tm/etm, 2)}')\n",
    "print(f'Trimmed mean upper {round(tm_p, 2)}, Trimmed mean lower {round(tm_m, 2)} difference: {round(tm_p - tm_m, 2)}, SNR: {round(tm/(tm_p - tm_m), 2)}')\n",
    "\n",
    "#print(stats.mode(np.round(edep, 0)))"
   ]
  },
  {
   "cell_type": "markdown",
   "metadata": {},
   "source": [
    "Recalculating the kinetic energy $E_k$ of the  particle mass  $M$ from its momentum $p$  according to:\n",
    "$$E_k = \\sqrt{M^2  + p^2} - M$$"
   ]
  },
  {
   "cell_type": "code",
   "execution_count": null,
   "metadata": {},
   "outputs": [
    {
     "name": "stdout",
     "output_type": "stream",
     "text": [
      "The kinetic energy of 2 GeV/c proton is 1271 MeV\n"
     ]
    }
   ],
   "source": [
    "print(f'The kinetic energy of 2 GeV/c proton is {Ek(938,2000):.0f} MeV')"
   ]
  },
  {
   "cell_type": "code",
   "execution_count": null,
   "metadata": {},
   "outputs": [
    {
     "name": "stdout",
     "output_type": "stream",
     "text": [
      "Converted 00_macro_tools.ipynb.\n",
      "Converted 01_analysis.ipynb.\n",
      "Converted 02_scanners.ipynb.\n",
      "Converted index.ipynb.\n"
     ]
    }
   ],
   "source": [
    "#hide\n",
    "from nbdev.export import notebook2script; notebook2script()"
   ]
  },
  {
   "cell_type": "code",
   "execution_count": null,
   "metadata": {},
   "outputs": [
    {
     "name": "stdout",
     "output_type": "stream",
     "text": [
      "my_proton_beam.mac sensor1.mac        visu.mac\r\n",
      "sensor0.mac        sensor2.mac\r\n"
     ]
    }
   ],
   "source": [
    "!ls mac"
   ]
  },
  {
   "cell_type": "code",
   "execution_count": null,
   "metadata": {},
   "outputs": [],
   "source": []
  }
 ],
 "metadata": {
  "kernelspec": {
   "display_name": "Python 3",
   "language": "python",
   "name": "python3"
  }
 },
 "nbformat": 4,
 "nbformat_minor": 2
}
